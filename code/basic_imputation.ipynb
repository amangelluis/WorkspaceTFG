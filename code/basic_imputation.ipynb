{
 "cells": [
  {
   "cell_type": "markdown",
   "metadata": {},
   "source": [
    "# Imputación básica"
   ]
  },
  {
   "cell_type": "markdown",
   "metadata": {},
   "source": [
    "## Preparar datos"
   ]
  },
  {
   "cell_type": "code",
   "execution_count": 40,
   "metadata": {},
   "outputs": [],
   "source": [
    "import pandas as pd\n",
    "import numpy as n\n",
    "import matplotlib.pyplot as plt\n",
    "import random\n",
    "import os\n",
    "import warnings\n",
    "import math"
   ]
  },
  {
   "cell_type": "markdown",
   "metadata": {},
   "source": [
    "Hay que leer el dataset original para comparar los datos imputados con los reales"
   ]
  },
  {
   "cell_type": "code",
   "execution_count": 41,
   "metadata": {},
   "outputs": [
    {
     "data": {
      "text/plain": [
       "Date\n",
       "1981-01-01    20.7\n",
       "1981-01-02    17.9\n",
       "1981-01-03    18.8\n",
       "1981-01-04    14.6\n",
       "1981-01-05    15.8\n",
       "Freq: D, Name: Daily minimum temperatures in Melbourne, Australia, 1981-1990, dtype: float64"
      ]
     },
     "execution_count": 41,
     "metadata": {},
     "output_type": "execute_result"
    }
   ],
   "source": [
    "warnings.filterwarnings('ignore', category=SyntaxWarning)  # Porque el \\d de \\data y \\daily lo toma como un valor especial\n",
    "dataframe = pd.read_csv(\"..\\data\\daily-minimum-temperatures-in-me.csv\", header=0, index_col=0, parse_dates=True)\n",
    "series = dataframe.squeeze('columns')\n",
    "series = series.resample('D').mean()\n",
    "series['1984-12-31'] = (series['1984-12-30'] + series['1985-01-01'])/2\n",
    "series['1988-12-31'] = (series['1988-12-30'] + series['1989-01-01'])/2\n",
    "series.head()"
   ]
  },
  {
   "cell_type": "markdown",
   "metadata": {},
   "source": [
    "Cogemos una lista con los datasets con los que vamos a trabajar"
   ]
  },
  {
   "cell_type": "code",
   "execution_count": 42,
   "metadata": {},
   "outputs": [],
   "source": [
    "lista_datasets = os.listdir('..\\miss_valued_data')"
   ]
  },
  {
   "cell_type": "markdown",
   "metadata": {},
   "source": [
    "## Funciones auxiliares"
   ]
  },
  {
   "cell_type": "markdown",
   "metadata": {},
   "source": [
    "### Calcular RMSE"
   ]
  },
  {
   "cell_type": "code",
   "execution_count": 43,
   "metadata": {},
   "outputs": [],
   "source": [
    "def RMSE(serie_original, serie_nula, serie_imputada):\n",
    "    suma=0\n",
    "    for i in serie_nula[serie_nula.isna()].index:\n",
    "        suma += (serie_original[i] - serie_imputada[i])**2\n",
    "    suma = math.sqrt(suma/len(serie_original))\n",
    "    return suma"
   ]
  },
  {
   "cell_type": "markdown",
   "metadata": {},
   "source": [
    "### Calcular MAE"
   ]
  },
  {
   "cell_type": "code",
   "execution_count": 50,
   "metadata": {},
   "outputs": [],
   "source": [
    "def MAE(serie_original, serie_nula, serie_imputada):\n",
    "    suma=0\n",
    "    for i in serie_nula[serie_nula.isna()].index:\n",
    "        suma += abs(serie_original[i] - serie_imputada[i])\n",
    "    suma = suma/len(serie_original)\n",
    "    return suma"
   ]
  },
  {
   "cell_type": "markdown",
   "metadata": {},
   "source": [
    "## Imputamos"
   ]
  },
  {
   "cell_type": "code",
   "execution_count": 52,
   "metadata": {},
   "outputs": [
    {
     "name": "stdout",
     "output_type": "stream",
     "text": [
      "El RMSE imputando con la media el dataset min_temperature_bateria_10.csv es : 1.4747579259701238\n",
      "El RMSE imputando con la mediana el dataset min_temperature_bateria_10.csv es : 1.4694751449185541\n",
      "El MAE imputando con la media el dataset min_temperature_bateria_10.csv es : 0.37715499689939913\n",
      "El MAE imputando con la mediana el dataset min_temperature_bateria_10.csv es : 0.37487677984665946\n",
      "------------------------------------------------------------------------------------------------------------------\n",
      "El RMSE imputando con la media el dataset min_temperature_bateria_15.csv es : 1.6719544860161197\n",
      "El RMSE imputando con la mediana el dataset min_temperature_bateria_15.csv es : 1.668904325721468\n",
      "El MAE imputando con la media el dataset min_temperature_bateria_15.csv es : 0.5193103772137296\n",
      "El MAE imputando con la mediana el dataset min_temperature_bateria_15.csv es : 0.5173466593647317\n",
      "------------------------------------------------------------------------------------------------------------------\n",
      "El RMSE imputando con la media el dataset min_temperature_bateria_20.csv es : 1.9570982570531266\n",
      "El RMSE imputando con la mediana el dataset min_temperature_bateria_20.csv es : 1.9495465603056434\n",
      "El MAE imputando con la media el dataset min_temperature_bateria_20.csv es : 0.7163043906070425\n",
      "El MAE imputando con la mediana el dataset min_temperature_bateria_20.csv es : 0.7126095290251915\n",
      "------------------------------------------------------------------------------------------------------------------\n",
      "El RMSE imputando con la media el dataset min_temperature_error_medida_10.csv es : 1.3064815399242289\n",
      "El RMSE imputando con la mediana el dataset min_temperature_error_medida_10.csv es : 1.306689335997855\n",
      "El MAE imputando con la media el dataset min_temperature_error_medida_10.csv es : 0.33841361102234535\n",
      "El MAE imputando con la mediana el dataset min_temperature_error_medida_10.csv es : 0.33773274917853213\n",
      "------------------------------------------------------------------------------------------------------------------\n",
      "El RMSE imputando con la media el dataset min_temperature_error_medida_15.csv es : 1.6014076214219417\n",
      "El RMSE imputando con la mediana el dataset min_temperature_error_medida_15.csv es : 1.6010128229173164\n",
      "El MAE imputando con la media el dataset min_temperature_error_medida_15.csv es : 0.5058052367573059\n",
      "El MAE imputando con la mediana el dataset min_temperature_error_medida_15.csv es : 0.5046549835706459\n",
      "------------------------------------------------------------------------------------------------------------------\n",
      "El RMSE imputando con la media el dataset min_temperature_error_medida_20.csv es : 1.7903153054510348\n",
      "El RMSE imputando con la mediana el dataset min_temperature_error_medida_20.csv es : 1.7923226806177326\n",
      "El MAE imputando con la media el dataset min_temperature_error_medida_20.csv es : 0.6465205136394004\n",
      "El MAE imputando con la mediana el dataset min_temperature_error_medida_20.csv es : 0.6457283680175254\n",
      "------------------------------------------------------------------------------------------------------------------\n",
      "El RMSE imputando con la media el dataset min_temperature_interferencias_10.csv es : 1.350492585572463\n",
      "El RMSE imputando con la mediana el dataset min_temperature_interferencias_10.csv es : 1.3536824547839577\n",
      "El MAE imputando con la media el dataset min_temperature_interferencias_10.csv es : 0.34677371293398834\n",
      "El MAE imputando con la mediana el dataset min_temperature_interferencias_10.csv es : 0.34701533406352686\n",
      "------------------------------------------------------------------------------------------------------------------\n",
      "El RMSE imputando con la media el dataset min_temperature_interferencias_15.csv es : 1.6376657750072179\n",
      "El RMSE imputando con la mediana el dataset min_temperature_interferencias_15.csv es : 1.6367786531034674\n",
      "El MAE imputando con la media el dataset min_temperature_interferencias_15.csv es : 0.5138722346566772\n",
      "El MAE imputando con la mediana el dataset min_temperature_interferencias_15.csv es : 0.5131161007667028\n",
      "------------------------------------------------------------------------------------------------------------------\n",
      "El RMSE imputando con la media el dataset min_temperature_interferencias_20.csv es : 1.9207466496528913\n",
      "El RMSE imputando con la mediana el dataset min_temperature_interferencias_20.csv es : 1.9228856042670561\n",
      "El MAE imputando con la media el dataset min_temperature_interferencias_20.csv es : 0.6960681441464942\n",
      "El MAE imputando con la mediana el dataset min_temperature_interferencias_20.csv es : 0.6952628696604604\n",
      "------------------------------------------------------------------------------------------------------------------\n",
      "El RMSE imputando con la media el dataset min_temperature_mix_10.csv es : 1.3346683508863322\n",
      "El RMSE imputando con la mediana el dataset min_temperature_mix_10.csv es : 1.335001722927374\n",
      "El MAE imputando con la media el dataset min_temperature_mix_10.csv es : 0.33712513141149814\n",
      "El MAE imputando con la mediana el dataset min_temperature_mix_10.csv es : 0.33632256297918983\n",
      "------------------------------------------------------------------------------------------------------------------\n",
      "El RMSE imputando con la media el dataset min_temperature_mix_15.csv es : 1.5707071917958104\n",
      "El RMSE imputando con la mediana el dataset min_temperature_mix_15.csv es : 1.5749156777789435\n",
      "El MAE imputando con la media el dataset min_temperature_mix_15.csv es : 0.4896437668171883\n",
      "El MAE imputando con la mediana el dataset min_temperature_mix_15.csv es : 0.4905120481927709\n",
      "------------------------------------------------------------------------------------------------------------------\n",
      "El RMSE imputando con la media el dataset min_temperature_mix_20.csv es : 1.8620125741869475\n",
      "El RMSE imputando con la mediana el dataset min_temperature_mix_20.csv es : 1.8610665201846015\n",
      "El MAE imputando con la media el dataset min_temperature_mix_20.csv es : 0.6764334048522864\n",
      "El MAE imputando con la mediana el dataset min_temperature_mix_20.csv es : 0.6755887185104058\n",
      "------------------------------------------------------------------------------------------------------------------\n"
     ]
    }
   ],
   "source": [
    "for i in lista_datasets:\n",
    "    # Lo leemos\n",
    "    df = pd.read_csv(\"..\\miss_valued_data\\\\\"+i, header=0, index_col=0, parse_dates=True)\n",
    "    serie_nulo = df.squeeze('columns')\n",
    "    \n",
    "    # Imputamos con la media:\n",
    "    serie_media = serie_nulo.fillna(serie_nulo.mean())\n",
    "    # Imputamos con la mediana\n",
    "    serie_mediana = serie_nulo.fillna(serie_nulo.median())\n",
    "\n",
    "    # Calculamos la raiz del error cuadrático medio con las series imputadas con la media y la mediana\n",
    "    rmse_media = RMSE(series, serie_nulo, serie_media)\n",
    "    rmse_mediana = RMSE(series, serie_nulo, serie_mediana)\n",
    "    # Calculamos el error medio absoluto con las series imputadas con la media y la mediana\n",
    "    mae_media = MAE(series, serie_nulo, serie_media)\n",
    "    mae_mediana = MAE(series, serie_nulo, serie_mediana)\n",
    "    print(\"El RMSE imputando con la media el dataset \" + i + \" es : \" + str(rmse_media))\n",
    "    print(\"El RMSE imputando con la mediana el dataset \" + i + \" es : \" + str(rmse_mediana))\n",
    "    print(\"El MAE imputando con la media el dataset \" + i + \" es : \" + str(mae_media))\n",
    "    print(\"El MAE imputando con la mediana el dataset \" + i + \" es : \" + str(mae_mediana))\n",
    "    print(\"------------------------------------------------------------------------------------------------------------------\")"
   ]
  }
 ],
 "metadata": {
  "kernelspec": {
   "display_name": "env",
   "language": "python",
   "name": "python3"
  },
  "language_info": {
   "codemirror_mode": {
    "name": "ipython",
    "version": 3
   },
   "file_extension": ".py",
   "mimetype": "text/x-python",
   "name": "python",
   "nbconvert_exporter": "python",
   "pygments_lexer": "ipython3",
   "version": "3.13.2"
  }
 },
 "nbformat": 4,
 "nbformat_minor": 2
}
