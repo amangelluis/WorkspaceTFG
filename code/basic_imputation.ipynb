{
 "cells": [
  {
   "cell_type": "markdown",
   "metadata": {},
   "source": [
    "# Imputación básica"
   ]
  },
  {
   "cell_type": "markdown",
   "metadata": {},
   "source": [
    "## Preparar datos"
   ]
  },
  {
   "cell_type": "code",
   "execution_count": 60,
   "metadata": {},
   "outputs": [],
   "source": [
    "import pandas as pd\n",
    "import numpy as n\n",
    "import matplotlib.pyplot as plt\n",
    "import random\n",
    "import os\n",
    "import warnings\n",
    "import math"
   ]
  },
  {
   "cell_type": "markdown",
   "metadata": {},
   "source": [
    "## Leer datos originales"
   ]
  },
  {
   "cell_type": "markdown",
   "metadata": {},
   "source": [
    "Hay que leer el dataset original para comparar los datos imputados con los reales"
   ]
  },
  {
   "cell_type": "markdown",
   "metadata": {},
   "source": [
    "Temperatura"
   ]
  },
  {
   "cell_type": "code",
   "execution_count": 61,
   "metadata": {},
   "outputs": [
    {
     "data": {
      "text/plain": [
       "Date\n",
       "1981-01-01    20.7\n",
       "1981-01-02    17.9\n",
       "1981-01-03    18.8\n",
       "1981-01-04    14.6\n",
       "1981-01-05    15.8\n",
       "Freq: D, Name: Daily minimum temperatures in Melbourne, Australia, 1981-1990, dtype: float64"
      ]
     },
     "execution_count": 61,
     "metadata": {},
     "output_type": "execute_result"
    }
   ],
   "source": [
    "warnings.filterwarnings('ignore', category=SyntaxWarning)  # Porque el \\d de \\data y \\daily lo toma como un valor especial\n",
    "dataframe_temperatura = pd.read_csv(\"..\\data\\daily-minimum-temperatures-in-me.csv\", header=0, index_col=0, parse_dates=True)\n",
    "series_temperatura = dataframe_temperatura.squeeze('columns')\n",
    "series_temperatura = series_temperatura.resample('D').mean()\n",
    "series_temperatura['1984-12-31'] = (series_temperatura['1984-12-30'] + series_temperatura['1985-01-01'])/2\n",
    "series_temperatura['1988-12-31'] = (series_temperatura['1988-12-30'] + series_temperatura['1989-01-01'])/2\n",
    "series_temperatura.head()"
   ]
  },
  {
   "cell_type": "markdown",
   "metadata": {},
   "source": [
    "Cardiovascular"
   ]
  },
  {
   "cell_type": "code",
   "execution_count": 62,
   "metadata": {},
   "outputs": [
    {
     "name": "stderr",
     "output_type": "stream",
     "text": [
      "C:\\Users\\alaba\\AppData\\Local\\Temp\\ipykernel_7104\\1350282516.py:1: UserWarning: Could not infer format, so each element will be parsed individually, falling back to `dateutil`. To ensure parsing is consistent and as-expected, please specify a format.\n",
      "  dataframe_cardiovascular = pd.read_csv(\"..\\data\\\\ads_hour.csv\", header=0, index_col=0, parse_dates=True)\n"
     ]
    },
    {
     "data": {
      "text/plain": [
       "Date\n",
       "2017-08-03 00:00:00    49136\n",
       "2017-08-03 01:00:00    46450\n",
       "2017-08-03 02:00:00    46355\n",
       "2017-08-03 03:00:00    43748\n",
       "2017-08-03 04:00:00    42281\n",
       "Name: ads, dtype: int64"
      ]
     },
     "execution_count": 62,
     "metadata": {},
     "output_type": "execute_result"
    }
   ],
   "source": [
    "dataframe_cardiovascular = pd.read_csv(\"..\\data\\\\ads_hour.csv\", header=0, index_col=0, parse_dates=True)\n",
    "series_cardiovascular = dataframe_cardiovascular.squeeze('columns')\n",
    "series_cardiovascular.head()"
   ]
  },
  {
   "cell_type": "markdown",
   "metadata": {},
   "source": [
    "Manchas solares"
   ]
  },
  {
   "cell_type": "code",
   "execution_count": 63,
   "metadata": {},
   "outputs": [
    {
     "data": {
      "text/plain": [
       "Month\n",
       "1749-01-31    58.0\n",
       "1749-02-28    62.6\n",
       "1749-03-31    70.0\n",
       "1749-04-30    55.7\n",
       "1749-05-31    85.0\n",
       "Freq: ME, Name: Sunspots, dtype: float64"
      ]
     },
     "execution_count": 63,
     "metadata": {},
     "output_type": "execute_result"
    }
   ],
   "source": [
    "dataframe_sunspots = pd.read_csv(\"..\\data\\monthly-sunspots.csv\", header=0, index_col=0, parse_dates=True)\n",
    "series_sunspots = dataframe_sunspots.squeeze('columns')\n",
    "series_sunspots = series_sunspots.resample('ME').mean() # Para los meses\n",
    "series_sunspots.head()"
   ]
  },
  {
   "cell_type": "markdown",
   "metadata": {},
   "source": [
    "## Funciones auxiliares"
   ]
  },
  {
   "cell_type": "markdown",
   "metadata": {},
   "source": [
    "### Listar dataset"
   ]
  },
  {
   "cell_type": "code",
   "execution_count": 64,
   "metadata": {},
   "outputs": [],
   "source": [
    "def listar_datasets(ruta):\n",
    "    return os.listdir(ruta)"
   ]
  },
  {
   "cell_type": "markdown",
   "metadata": {},
   "source": [
    "### Calcular RMSE"
   ]
  },
  {
   "cell_type": "code",
   "execution_count": 65,
   "metadata": {},
   "outputs": [],
   "source": [
    "def RMSE(serie_original, serie_nula, serie_imputada):\n",
    "    suma=0\n",
    "    for i in serie_nula[serie_nula.isna()].index:\n",
    "        suma += (serie_original[i] - serie_imputada[i])**2\n",
    "    suma = math.sqrt(suma/len(serie_original))\n",
    "    return suma"
   ]
  },
  {
   "cell_type": "markdown",
   "metadata": {},
   "source": [
    "### Calcular MAE"
   ]
  },
  {
   "cell_type": "code",
   "execution_count": 66,
   "metadata": {},
   "outputs": [],
   "source": [
    "def MAE(serie_original, serie_nula, serie_imputada):\n",
    "    suma=0\n",
    "    for i in serie_nula[serie_nula.isna()].index:\n",
    "        suma += abs(serie_original[i] - serie_imputada[i])\n",
    "    suma = suma/len(serie_original)\n",
    "    return suma"
   ]
  },
  {
   "cell_type": "markdown",
   "metadata": {},
   "source": [
    "### Imputar serie"
   ]
  },
  {
   "cell_type": "code",
   "execution_count": null,
   "metadata": {},
   "outputs": [],
   "source": [
    "def imputar_media_mediana(serie, ruta, lista):\n",
    "    for i in lista:\n",
    "        # Lo leemos\n",
    "        df = pd.read_csv(ruta+i, header=0, index_col=0, parse_dates=True)\n",
    "        serie_nulo = df.squeeze('columns')\n",
    "        \n",
    "        # Imputamos con la media:\n",
    "        serie_media = serie_nulo.fillna(serie_nulo.mean())\n",
    "        # Imputamos con la mediana\n",
    "        serie_mediana = serie_nulo.fillna(serie_nulo.median())\n",
    "\n",
    "        # Calculamos la raiz del error cuadrático medio con las series imputadas con la media y la mediana\n",
    "        rmse_media = RMSE(serie, serie_nulo, serie_media)\n",
    "        rmse_mediana = RMSE(serie, serie_nulo, serie_mediana)\n",
    "        # Calculamos el error medio absoluto con las series imputadas con la media y la mediana\n",
    "        mae_media = MAE(serie, serie_nulo, serie_media)\n",
    "        mae_mediana = MAE(serie, serie_nulo, serie_mediana)\n",
    "        print(\"El RMSE imputando con la media el dataset \" + i + \" es : \" + str(rmse_media))\n",
    "        print(\"El RMSE imputando con la mediana el dataset \" + i + \" es : \" + str(rmse_mediana))\n",
    "        print(\"El MAE imputando con la media el dataset \" + i + \" es : \" + str(mae_media))\n",
    "        print(\"El MAE imputando con la mediana el dataset \" + i + \" es : \" + str(mae_mediana))\n",
    "        print(\"------------------------------------------------------------------------------------------------------------------\")"
   ]
  },
  {
   "cell_type": "markdown",
   "metadata": {},
   "source": [
    "## Imputamos"
   ]
  },
  {
   "cell_type": "markdown",
   "metadata": {},
   "source": [
    "### Dataset de temperaturas"
   ]
  },
  {
   "cell_type": "code",
   "execution_count": 68,
   "metadata": {},
   "outputs": [
    {
     "name": "stdout",
     "output_type": "stream",
     "text": [
      "min_temperature_bateria_10.csv\n",
      "El RMSE imputando con la media el dataset min_temperature_bateria_10.csv es : 1.4747579259701238\n",
      "El RMSE imputando con la mediana el dataset min_temperature_bateria_10.csv es : 1.4694751449185541\n",
      "El MAE imputando con la media el dataset min_temperature_bateria_10.csv es : 0.37715499689939913\n",
      "El MAE imputando con la mediana el dataset min_temperature_bateria_10.csv es : 0.37487677984665946\n",
      "------------------------------------------------------------------------------------------------------------------\n",
      "min_temperature_bateria_15.csv\n",
      "El RMSE imputando con la media el dataset min_temperature_bateria_15.csv es : 1.6719544860161197\n",
      "El RMSE imputando con la mediana el dataset min_temperature_bateria_15.csv es : 1.668904325721468\n",
      "El MAE imputando con la media el dataset min_temperature_bateria_15.csv es : 0.5193103772137296\n",
      "El MAE imputando con la mediana el dataset min_temperature_bateria_15.csv es : 0.5173466593647317\n",
      "------------------------------------------------------------------------------------------------------------------\n",
      "min_temperature_bateria_20.csv\n",
      "El RMSE imputando con la media el dataset min_temperature_bateria_20.csv es : 1.9570982570531266\n",
      "El RMSE imputando con la mediana el dataset min_temperature_bateria_20.csv es : 1.9495465603056434\n",
      "El MAE imputando con la media el dataset min_temperature_bateria_20.csv es : 0.7163043906070425\n",
      "El MAE imputando con la mediana el dataset min_temperature_bateria_20.csv es : 0.7126095290251915\n",
      "------------------------------------------------------------------------------------------------------------------\n",
      "min_temperature_error_medida_10.csv\n",
      "El RMSE imputando con la media el dataset min_temperature_error_medida_10.csv es : 1.3064815399242289\n",
      "El RMSE imputando con la mediana el dataset min_temperature_error_medida_10.csv es : 1.306689335997855\n",
      "El MAE imputando con la media el dataset min_temperature_error_medida_10.csv es : 0.33841361102234535\n",
      "El MAE imputando con la mediana el dataset min_temperature_error_medida_10.csv es : 0.33773274917853213\n",
      "------------------------------------------------------------------------------------------------------------------\n",
      "min_temperature_error_medida_15.csv\n",
      "El RMSE imputando con la media el dataset min_temperature_error_medida_15.csv es : 1.6014076214219417\n",
      "El RMSE imputando con la mediana el dataset min_temperature_error_medida_15.csv es : 1.6010128229173164\n",
      "El MAE imputando con la media el dataset min_temperature_error_medida_15.csv es : 0.5058052367573059\n",
      "El MAE imputando con la mediana el dataset min_temperature_error_medida_15.csv es : 0.5046549835706459\n",
      "------------------------------------------------------------------------------------------------------------------\n",
      "min_temperature_error_medida_20.csv\n",
      "El RMSE imputando con la media el dataset min_temperature_error_medida_20.csv es : 1.7903153054510348\n",
      "El RMSE imputando con la mediana el dataset min_temperature_error_medida_20.csv es : 1.7923226806177326\n",
      "El MAE imputando con la media el dataset min_temperature_error_medida_20.csv es : 0.6465205136394004\n",
      "El MAE imputando con la mediana el dataset min_temperature_error_medida_20.csv es : 0.6457283680175254\n",
      "------------------------------------------------------------------------------------------------------------------\n",
      "min_temperature_interferencias_10.csv\n",
      "El RMSE imputando con la media el dataset min_temperature_interferencias_10.csv es : 1.350492585572463\n",
      "El RMSE imputando con la mediana el dataset min_temperature_interferencias_10.csv es : 1.3536824547839577\n",
      "El MAE imputando con la media el dataset min_temperature_interferencias_10.csv es : 0.34677371293398834\n",
      "El MAE imputando con la mediana el dataset min_temperature_interferencias_10.csv es : 0.34701533406352686\n",
      "------------------------------------------------------------------------------------------------------------------\n",
      "min_temperature_interferencias_15.csv\n",
      "El RMSE imputando con la media el dataset min_temperature_interferencias_15.csv es : 1.6376657750072179\n",
      "El RMSE imputando con la mediana el dataset min_temperature_interferencias_15.csv es : 1.6367786531034674\n",
      "El MAE imputando con la media el dataset min_temperature_interferencias_15.csv es : 0.5138722346566772\n",
      "El MAE imputando con la mediana el dataset min_temperature_interferencias_15.csv es : 0.5131161007667028\n",
      "------------------------------------------------------------------------------------------------------------------\n",
      "min_temperature_interferencias_20.csv\n",
      "El RMSE imputando con la media el dataset min_temperature_interferencias_20.csv es : 1.9207466496528913\n",
      "El RMSE imputando con la mediana el dataset min_temperature_interferencias_20.csv es : 1.9228856042670561\n",
      "El MAE imputando con la media el dataset min_temperature_interferencias_20.csv es : 0.6960681441464942\n",
      "El MAE imputando con la mediana el dataset min_temperature_interferencias_20.csv es : 0.6952628696604604\n",
      "------------------------------------------------------------------------------------------------------------------\n",
      "min_temperature_mix_10.csv\n",
      "El RMSE imputando con la media el dataset min_temperature_mix_10.csv es : 1.3346683508863322\n",
      "El RMSE imputando con la mediana el dataset min_temperature_mix_10.csv es : 1.335001722927374\n",
      "El MAE imputando con la media el dataset min_temperature_mix_10.csv es : 0.33712513141149814\n",
      "El MAE imputando con la mediana el dataset min_temperature_mix_10.csv es : 0.33632256297918983\n",
      "------------------------------------------------------------------------------------------------------------------\n",
      "min_temperature_mix_15.csv\n",
      "El RMSE imputando con la media el dataset min_temperature_mix_15.csv es : 1.5707071917958104\n",
      "El RMSE imputando con la mediana el dataset min_temperature_mix_15.csv es : 1.5749156777789435\n",
      "El MAE imputando con la media el dataset min_temperature_mix_15.csv es : 0.4896437668171883\n",
      "El MAE imputando con la mediana el dataset min_temperature_mix_15.csv es : 0.4905120481927709\n",
      "------------------------------------------------------------------------------------------------------------------\n",
      "min_temperature_mix_20.csv\n",
      "El RMSE imputando con la media el dataset min_temperature_mix_20.csv es : 1.8620125741869475\n",
      "El RMSE imputando con la mediana el dataset min_temperature_mix_20.csv es : 1.8610665201846015\n",
      "El MAE imputando con la media el dataset min_temperature_mix_20.csv es : 0.6764334048522864\n",
      "El MAE imputando con la mediana el dataset min_temperature_mix_20.csv es : 0.6755887185104058\n",
      "------------------------------------------------------------------------------------------------------------------\n"
     ]
    }
   ],
   "source": [
    "lista_datasets_temperatura = listar_datasets('..\\miss_valued_data_temperatura')\n",
    "imputar_media_mediana(series_temperatura, \"..\\miss_valued_data_temperatura\\\\\", lista_datasets_temperatura)"
   ]
  },
  {
   "cell_type": "markdown",
   "metadata": {},
   "source": [
    "### Dataset cardiovascular"
   ]
  },
  {
   "cell_type": "code",
   "execution_count": 69,
   "metadata": {},
   "outputs": [
    {
     "name": "stdout",
     "output_type": "stream",
     "text": [
      "cardiovascular_arritmias10.csv\n",
      "El RMSE imputando con la media el dataset cardiovascular_arritmias10.csv es : 5492.510722300351\n",
      "El RMSE imputando con la mediana el dataset cardiovascular_arritmias10.csv es : 5404.674501542706\n",
      "El MAE imputando con la media el dataset cardiovascular_arritmias10.csv es : 1406.950486834829\n",
      "El MAE imputando con la mediana el dataset cardiovascular_arritmias10.csv es : 1376.3640287769783\n",
      "------------------------------------------------------------------------------------------------------------------\n",
      "cardiovascular_arritmias15.csv\n",
      "El RMSE imputando con la media el dataset cardiovascular_arritmias15.csv es : 6959.605598683248\n",
      "El RMSE imputando con la mediana el dataset cardiovascular_arritmias15.csv es : 6899.6281406070775\n",
      "El MAE imputando con la media el dataset cardiovascular_arritmias15.csv es : 2162.598832744293\n",
      "El MAE imputando con la mediana el dataset cardiovascular_arritmias15.csv es : 2128.2081534772183\n",
      "------------------------------------------------------------------------------------------------------------------\n",
      "cardiovascular_arritmias20.csv\n",
      "El RMSE imputando con la media el dataset cardiovascular_arritmias20.csv es : 8025.95570628838\n",
      "El RMSE imputando con la mediana el dataset cardiovascular_arritmias20.csv es : 7964.570039299753\n",
      "El MAE imputando con la media el dataset cardiovascular_arritmias20.csv es : 2900.2360367820843\n",
      "El MAE imputando con la mediana el dataset cardiovascular_arritmias20.csv es : 2859.080335731415\n",
      "------------------------------------------------------------------------------------------------------------------\n",
      "cardiovascular_bateria_suciedad_humedad10.csv\n",
      "El RMSE imputando con la media el dataset cardiovascular_bateria_suciedad_humedad10.csv es : 6565.091371524594\n",
      "El RMSE imputando con la mediana el dataset cardiovascular_bateria_suciedad_humedad10.csv es : 6934.3043022609645\n",
      "El MAE imputando con la media el dataset cardiovascular_bateria_suciedad_humedad10.csv es : 1637.2918057668967\n",
      "El MAE imputando con la mediana el dataset cardiovascular_bateria_suciedad_humedad10.csv es : 1749.5223021582733\n",
      "------------------------------------------------------------------------------------------------------------------\n",
      "cardiovascular_bateria_suciedad_humedad15.csv\n",
      "El RMSE imputando con la media el dataset cardiovascular_bateria_suciedad_humedad15.csv es : 6405.386389486076\n",
      "El RMSE imputando con la mediana el dataset cardiovascular_bateria_suciedad_humedad15.csv es : 6707.683252461145\n",
      "El MAE imputando con la media el dataset cardiovascular_bateria_suciedad_humedad15.csv es : 1958.1898444696076\n",
      "El MAE imputando con la mediana el dataset cardiovascular_bateria_suciedad_humedad15.csv es : 2051.325179856115\n",
      "------------------------------------------------------------------------------------------------------------------\n",
      "cardiovascular_bateria_suciedad_humedad20.csv\n",
      "El RMSE imputando con la media el dataset cardiovascular_bateria_suciedad_humedad20.csv es : 7932.704583472005\n",
      "El RMSE imputando con la mediana el dataset cardiovascular_bateria_suciedad_humedad20.csv es : 8314.662083725758\n",
      "El MAE imputando con la media el dataset cardiovascular_bateria_suciedad_humedad20.csv es : 2786.634846367518\n",
      "El MAE imputando con la mediana el dataset cardiovascular_bateria_suciedad_humedad20.csv es : 2926.1470023980814\n",
      "------------------------------------------------------------------------------------------------------------------\n",
      "cardiovascular_colocacion10.csv\n",
      "El RMSE imputando con la media el dataset cardiovascular_colocacion10.csv es : 6294.899323347927\n",
      "El RMSE imputando con la mediana el dataset cardiovascular_colocacion10.csv es : 6355.317774122073\n",
      "El MAE imputando con la media el dataset cardiovascular_colocacion10.csv es : 1602.1409870079478\n",
      "El MAE imputando con la mediana el dataset cardiovascular_colocacion10.csv es : 1615.7836930455635\n",
      "------------------------------------------------------------------------------------------------------------------\n",
      "cardiovascular_colocacion15.csv\n",
      "El RMSE imputando con la media el dataset cardiovascular_colocacion15.csv es : 7211.333131809854\n",
      "El RMSE imputando con la mediana el dataset cardiovascular_colocacion15.csv es : 7222.041716769088\n",
      "El MAE imputando con la media el dataset cardiovascular_colocacion15.csv es : 2237.8836106749145\n",
      "El MAE imputando con la mediana el dataset cardiovascular_colocacion15.csv es : 2227.0268585131894\n",
      "------------------------------------------------------------------------------------------------------------------\n",
      "cardiovascular_colocacion20.csv\n",
      "El RMSE imputando con la media el dataset cardiovascular_colocacion20.csv es : 7986.802546052264\n",
      "El RMSE imputando con la mediana el dataset cardiovascular_colocacion20.csv es : 7985.160888026857\n",
      "El MAE imputando con la media el dataset cardiovascular_colocacion20.csv es : 2854.285526686579\n",
      "El MAE imputando con la mediana el dataset cardiovascular_colocacion20.csv es : 2831.7314148681057\n",
      "------------------------------------------------------------------------------------------------------------------\n",
      "cardiovascular_interferencias10.csv\n",
      "El RMSE imputando con la media el dataset cardiovascular_interferencias10.csv es : 6294.899323347927\n",
      "El RMSE imputando con la mediana el dataset cardiovascular_interferencias10.csv es : 6355.317774122073\n",
      "El MAE imputando con la media el dataset cardiovascular_interferencias10.csv es : 1602.1409870079478\n",
      "El MAE imputando con la mediana el dataset cardiovascular_interferencias10.csv es : 1615.7836930455635\n",
      "------------------------------------------------------------------------------------------------------------------\n",
      "cardiovascular_interferencias15.csv\n",
      "El RMSE imputando con la media el dataset cardiovascular_interferencias15.csv es : 7211.333131809854\n",
      "El RMSE imputando con la mediana el dataset cardiovascular_interferencias15.csv es : 7222.041716769088\n",
      "El MAE imputando con la media el dataset cardiovascular_interferencias15.csv es : 2237.8836106749145\n",
      "El MAE imputando con la mediana el dataset cardiovascular_interferencias15.csv es : 2227.0268585131894\n",
      "------------------------------------------------------------------------------------------------------------------\n",
      "cardiovascular_interferencias20.csv\n",
      "El RMSE imputando con la media el dataset cardiovascular_interferencias20.csv es : 7986.802546052264\n",
      "El RMSE imputando con la mediana el dataset cardiovascular_interferencias20.csv es : 7985.160888026857\n",
      "El MAE imputando con la media el dataset cardiovascular_interferencias20.csv es : 2854.285526686579\n",
      "El MAE imputando con la mediana el dataset cardiovascular_interferencias20.csv es : 2831.7314148681057\n",
      "------------------------------------------------------------------------------------------------------------------\n",
      "cardiovascular_mix_10.csv\n",
      "El RMSE imputando con la media el dataset cardiovascular_mix_10.csv es : 6684.717762016632\n",
      "El RMSE imputando con la mediana el dataset cardiovascular_mix_10.csv es : 6822.49586748651\n",
      "El MAE imputando con la media el dataset cardiovascular_mix_10.csv es : 1742.6948884885633\n",
      "El MAE imputando con la mediana el dataset cardiovascular_mix_10.csv es : 1777.0820143884891\n",
      "------------------------------------------------------------------------------------------------------------------\n",
      "cardiovascular_mix_15.csv\n",
      "El RMSE imputando con la media el dataset cardiovascular_mix_15.csv es : 8656.886303289599\n",
      "El RMSE imputando con la mediana el dataset cardiovascular_mix_15.csv es : 8819.548327967397\n",
      "El MAE imputando con la media el dataset cardiovascular_mix_15.csv es : 2764.281883978391\n",
      "El MAE imputando con la mediana el dataset cardiovascular_mix_15.csv es : 2808.9664268585134\n",
      "------------------------------------------------------------------------------------------------------------------\n",
      "cardiovascular_mix_20.csv\n",
      "El RMSE imputando con la media el dataset cardiovascular_mix_20.csv es : 9341.233727088169\n",
      "El RMSE imputando con la mediana el dataset cardiovascular_mix_20.csv es : 9451.769141822697\n",
      "El MAE imputando con la media el dataset cardiovascular_mix_20.csv es : 3415.1246743145807\n",
      "El MAE imputando con la mediana el dataset cardiovascular_mix_20.csv es : 3439.6906474820144\n",
      "------------------------------------------------------------------------------------------------------------------\n"
     ]
    }
   ],
   "source": [
    "lista_datasets_cardiovascular = listar_datasets('..\\miss_valued_data_cardiovascular')\n",
    "imputar_media_mediana(series_cardiovascular, \"..\\miss_valued_data_cardiovascular\\\\\", lista_datasets_cardiovascular)"
   ]
  },
  {
   "cell_type": "markdown",
   "metadata": {},
   "source": [
    "### Dataset manchas solares"
   ]
  },
  {
   "cell_type": "code",
   "execution_count": 70,
   "metadata": {},
   "outputs": [
    {
     "name": "stdout",
     "output_type": "stream",
     "text": [
      "manchas_solares_error_medida_10.csv\n",
      "El RMSE imputando con la media el dataset manchas_solares_error_medida_10.csv es : 14.474973789939577\n",
      "El RMSE imputando con la mediana el dataset manchas_solares_error_medida_10.csv es : 14.95440208914992\n",
      "El MAE imputando con la media el dataset manchas_solares_error_medida_10.csv es : 3.5866186587976228\n",
      "El MAE imputando con la mediana el dataset manchas_solares_error_medida_10.csv es : 3.5486524822695036\n",
      "------------------------------------------------------------------------------------------------------------------\n",
      "manchas_solares_error_medida_15.csv\n",
      "El RMSE imputando con la media el dataset manchas_solares_error_medida_15.csv es : 18.082540006822114\n",
      "El RMSE imputando con la mediana el dataset manchas_solares_error_medida_15.csv es : 18.593063127249927\n",
      "El MAE imputando con la media el dataset manchas_solares_error_medida_15.csv es : 5.4840606905203595\n",
      "El MAE imputando con la mediana el dataset manchas_solares_error_medida_15.csv es : 5.394290780141844\n",
      "------------------------------------------------------------------------------------------------------------------\n",
      "manchas_solares_error_medida_20.csv\n",
      "El RMSE imputando con la media el dataset manchas_solares_error_medida_20.csv es : 20.05958467665256\n",
      "El RMSE imputando con la mediana el dataset manchas_solares_error_medida_20.csv es : 20.41513926838408\n",
      "El MAE imputando con la media el dataset manchas_solares_error_medida_20.csv es : 7.096303505859863\n",
      "El MAE imputando con la mediana el dataset manchas_solares_error_medida_20.csv es : 6.883014184397159\n",
      "------------------------------------------------------------------------------------------------------------------\n",
      "manchas_solares_mix_10.csv\n",
      "El RMSE imputando con la media el dataset manchas_solares_mix_10.csv es : 14.757533753842148\n",
      "El RMSE imputando con la mediana el dataset manchas_solares_mix_10.csv es : 15.712378008914989\n",
      "El MAE imputando con la media el dataset manchas_solares_mix_10.csv es : 3.6076312896051057\n",
      "El MAE imputando con la mediana el dataset manchas_solares_mix_10.csv es : 3.7292198581560316\n",
      "------------------------------------------------------------------------------------------------------------------\n",
      "manchas_solares_mix_15.csv\n",
      "El RMSE imputando con la media el dataset manchas_solares_mix_15.csv es : 17.325380947809098\n",
      "El RMSE imputando con la mediana el dataset manchas_solares_mix_15.csv es : 17.97105109071154\n",
      "El MAE imputando con la media el dataset manchas_solares_mix_15.csv es : 5.207618603245704\n",
      "El MAE imputando con la mediana el dataset manchas_solares_mix_15.csv es : 5.179113475177308\n",
      "------------------------------------------------------------------------------------------------------------------\n",
      "manchas_solares_mix_20.csv\n",
      "El RMSE imputando con la media el dataset manchas_solares_mix_20.csv es : 19.03217017291818\n",
      "El RMSE imputando con la mediana el dataset manchas_solares_mix_20.csv es : 19.693741670716303\n",
      "El MAE imputando con la media el dataset manchas_solares_mix_20.csv es : 6.710223185476888\n",
      "El MAE imputando con la mediana el dataset manchas_solares_mix_20.csv es : 6.6351773049645395\n",
      "------------------------------------------------------------------------------------------------------------------\n",
      "manchas_solares_perdida_de_archivos_10.csv\n",
      "El RMSE imputando con la media el dataset manchas_solares_perdida_de_archivos_10.csv es : 10.137695331894932\n",
      "El RMSE imputando con la mediana el dataset manchas_solares_perdida_de_archivos_10.csv es : 9.376614281822139\n",
      "El MAE imputando con la media el dataset manchas_solares_perdida_de_archivos_10.csv es : 2.8020712684919724\n",
      "El MAE imputando con la mediana el dataset manchas_solares_perdida_de_archivos_10.csv es : 2.526985815602836\n",
      "------------------------------------------------------------------------------------------------------------------\n",
      "manchas_solares_perdida_de_archivos_15.csv\n",
      "El RMSE imputando con la media el dataset manchas_solares_perdida_de_archivos_15.csv es : 16.136357070366635\n",
      "El RMSE imputando con la mediana el dataset manchas_solares_perdida_de_archivos_15.csv es : 16.491159247710073\n",
      "El MAE imputando con la media el dataset manchas_solares_perdida_de_archivos_15.csv es : 5.125428594253453\n",
      "El MAE imputando con la mediana el dataset manchas_solares_perdida_de_archivos_15.csv es : 4.999007092198582\n",
      "------------------------------------------------------------------------------------------------------------------\n",
      "manchas_solares_perdida_de_archivos_20.csv\n",
      "El RMSE imputando con la media el dataset manchas_solares_perdida_de_archivos_20.csv es : 16.50214917287523\n",
      "El RMSE imputando con la mediana el dataset manchas_solares_perdida_de_archivos_20.csv es : 15.80531062559769\n",
      "El MAE imputando con la media el dataset manchas_solares_perdida_de_archivos_20.csv es : 6.2379885317640005\n",
      "El MAE imputando con la mediana el dataset manchas_solares_perdida_de_archivos_20.csv es : 5.745815602836884\n",
      "------------------------------------------------------------------------------------------------------------------\n"
     ]
    }
   ],
   "source": [
    "lista_datasets_sunspots = listar_datasets('..\\miss_valued_data_manchas_solares')\n",
    "imputar_media_mediana(series_sunspots, \"..\\miss_valued_data_manchas_solares\\\\\", lista_datasets_sunspots)"
   ]
  }
 ],
 "metadata": {
  "kernelspec": {
   "display_name": "env",
   "language": "python",
   "name": "python3"
  },
  "language_info": {
   "codemirror_mode": {
    "name": "ipython",
    "version": 3
   },
   "file_extension": ".py",
   "mimetype": "text/x-python",
   "name": "python",
   "nbconvert_exporter": "python",
   "pygments_lexer": "ipython3",
   "version": "3.13.2"
  }
 },
 "nbformat": 4,
 "nbformat_minor": 2
}
