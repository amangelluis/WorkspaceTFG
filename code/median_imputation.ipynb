{
 "cells": [
  {
   "cell_type": "markdown",
   "metadata": {},
   "source": [
    "# Imputación con mediana"
   ]
  },
  {
   "cell_type": "markdown",
   "metadata": {},
   "source": [
    "## Preparar librerias"
   ]
  },
  {
   "cell_type": "code",
   "execution_count": null,
   "metadata": {},
   "outputs": [],
   "source": [
    "import pandas as pd\n",
    "import numpy as np\n",
    "#import matplotlib.pyplot as plt\n",
    "#import random\n",
    "import warnings\n",
    "#import math\n",
    "#from sklearn.preprocessing import StandardScaler\n",
    "from sklearn.preprocessing import MinMaxScaler\n",
    "#from sklearn.preprocessing import Normalizer\n",
    "import importlib.util\n",
    "\n",
    "# Especifica la ruta al archivo del módulo\n",
    "ruta_al_modulo = './util/auxi.py'\n",
    "\n",
    "# Importa el módulo\n",
    "spec = importlib.util.spec_from_file_location(\"auxi\", ruta_al_modulo)\n",
    "auxi = importlib.util.module_from_spec(spec)\n",
    "spec.loader.exec_module(auxi)"
   ]
  },
  {
   "cell_type": "markdown",
   "metadata": {},
   "source": [
    "## Leer datos originales"
   ]
  },
  {
   "cell_type": "markdown",
   "metadata": {},
   "source": [
    "Hay que leer el dataset original para comparar los datos imputados con los reales"
   ]
  },
  {
   "cell_type": "markdown",
   "metadata": {},
   "source": [
    "Temperatura"
   ]
  },
  {
   "cell_type": "code",
   "execution_count": 2,
   "metadata": {},
   "outputs": [
    {
     "name": "stderr",
     "output_type": "stream",
     "text": [
      "<>:2: SyntaxWarning: invalid escape sequence '\\d'\n",
      "<>:2: SyntaxWarning: invalid escape sequence '\\d'\n",
      "C:\\Users\\alaba\\AppData\\Local\\Temp\\ipykernel_5488\\790941083.py:2: SyntaxWarning: invalid escape sequence '\\d'\n",
      "  dataframe_temperatura = pd.read_csv(\"..\\data\\daily-minimum-temperatures-in-me.csv\", header=0, index_col=0, parse_dates=True)\n"
     ]
    },
    {
     "data": {
      "text/plain": [
       "Date\n",
       "1981-01-01    20.7\n",
       "1981-01-02    17.9\n",
       "1981-01-03    18.8\n",
       "1981-01-04    14.6\n",
       "1981-01-05    15.8\n",
       "Freq: D, Name: Daily minimum temperatures in Melbourne, Australia, 1981-1990, dtype: float64"
      ]
     },
     "execution_count": 2,
     "metadata": {},
     "output_type": "execute_result"
    }
   ],
   "source": [
    "warnings.filterwarnings('ignore', category=SyntaxWarning)  # Porque el \\d de \\data y \\daily lo toma como un valor especial\n",
    "dataframe_temperatura = pd.read_csv(\"..\\data\\daily-minimum-temperatures-in-me.csv\", header=0, index_col=0, parse_dates=True)\n",
    "serie_temperatura = dataframe_temperatura.squeeze('columns')\n",
    "serie_temperatura = serie_temperatura.resample('D').mean()\n",
    "serie_temperatura['1984-12-31'] = (serie_temperatura['1984-12-30'] + serie_temperatura['1985-01-01'])/2\n",
    "serie_temperatura['1988-12-31'] = (serie_temperatura['1988-12-30'] + serie_temperatura['1989-01-01'])/2\n",
    "serie_temperatura.head()"
   ]
  },
  {
   "cell_type": "markdown",
   "metadata": {},
   "source": [
    "Cardiovascular"
   ]
  },
  {
   "cell_type": "code",
   "execution_count": 3,
   "metadata": {},
   "outputs": [
    {
     "name": "stderr",
     "output_type": "stream",
     "text": [
      "C:\\Users\\alaba\\AppData\\Local\\Temp\\ipykernel_5488\\3747356855.py:1: UserWarning: Could not infer format, so each element will be parsed individually, falling back to `dateutil`. To ensure parsing is consistent and as-expected, please specify a format.\n",
      "  dataframe_cardiovascular = pd.read_csv(\"..\\data\\\\ads_hour.csv\", header=0, index_col=0, parse_dates=True)\n"
     ]
    },
    {
     "data": {
      "text/plain": [
       "Date\n",
       "2017-08-03 00:00:00    49136.0\n",
       "2017-08-03 01:00:00    46450.0\n",
       "2017-08-03 02:00:00    46355.0\n",
       "2017-08-03 03:00:00    43748.0\n",
       "2017-08-03 04:00:00    42281.0\n",
       "Name: ads, dtype: float64"
      ]
     },
     "execution_count": 3,
     "metadata": {},
     "output_type": "execute_result"
    }
   ],
   "source": [
    "dataframe_cardiovascular = pd.read_csv(\"..\\data\\\\ads_hour.csv\", header=0, index_col=0, parse_dates=True)\n",
    "serie_cardiovascular = dataframe_cardiovascular.squeeze('columns')\n",
    "serie_cardiovascular = serie_cardiovascular.astype(float)\n",
    "serie_cardiovascular.head()"
   ]
  },
  {
   "cell_type": "markdown",
   "metadata": {},
   "source": [
    "Manchas solares"
   ]
  },
  {
   "cell_type": "code",
   "execution_count": 4,
   "metadata": {},
   "outputs": [
    {
     "data": {
      "text/plain": [
       "Month\n",
       "1749-01-31    58.0\n",
       "1749-02-28    62.6\n",
       "1749-03-31    70.0\n",
       "1749-04-30    55.7\n",
       "1749-05-31    85.0\n",
       "Freq: ME, Name: Sunspots, dtype: float64"
      ]
     },
     "execution_count": 4,
     "metadata": {},
     "output_type": "execute_result"
    }
   ],
   "source": [
    "dataframe_sunspots = pd.read_csv(\"..\\data\\monthly-sunspots.csv\", header=0, index_col=0, parse_dates=True)\n",
    "serie_sunspots = dataframe_sunspots.squeeze('columns')\n",
    "serie_sunspots = serie_sunspots.resample('ME').mean() # Para los meses\n",
    "serie_sunspots.head()"
   ]
  },
  {
   "cell_type": "markdown",
   "metadata": {},
   "source": [
    "## Mediana"
   ]
  },
  {
   "cell_type": "code",
   "execution_count": 5,
   "metadata": {},
   "outputs": [],
   "source": [
    "def imputar_mediana(serie, lista):\n",
    "    dataframe_mediana = pd.DataFrame({\n",
    "        'Dataset': [],\n",
    "        'RMSE': [],\n",
    "        'MAE': [],\n",
    "        'MAPE': [],\n",
    "        'BIAS': []\n",
    "    })\n",
    "    for serie_nulo in lista:\n",
    "        \n",
    "        # Imputamos con la mediana\n",
    "        serie_mediana = serie_nulo.fillna(serie_nulo.median())\n",
    "\n",
    "        # Calculamos la raiz del error cuadrático medio con las series imputadas con la mediana\n",
    "        rmse_mediana = auxi.RMSE(serie, serie_nulo, serie_mediana)\n",
    "        # Calculamos el error medio absoluto con las series imputadas con la mediana\n",
    "        mae_mediana = auxi.MAE(serie, serie_nulo, serie_mediana)\n",
    "        # Calculamos el error medio absoluto porcentual con las series imputadas con la mediana\n",
    "        mape_mediana = auxi.MAPE(serie, serie_nulo, serie_mediana)\n",
    "        # Calculamos el bias con las series imputadas con la mediana\n",
    "        bias_mediana = auxi.BIAS(serie, serie_nulo, serie_mediana)\n",
    "\n",
    "        nueva_fila = pd.DataFrame({ 'Dataset': [serie_nulo.name], 'RMSE': [rmse_mediana], 'MAE': [mae_mediana], 'MAPE': [mape_mediana], 'BIAS': [bias_mediana]})\n",
    "        dataframe_mediana = pd.concat([dataframe_mediana, nueva_fila], ignore_index=True)\n",
    "    return dataframe_mediana"
   ]
  },
  {
   "cell_type": "markdown",
   "metadata": {},
   "source": [
    "## Listar"
   ]
  },
  {
   "cell_type": "code",
   "execution_count": 6,
   "metadata": {},
   "outputs": [],
   "source": [
    "lista_series_temperatura = auxi.leer_series('..\\miss_valued_data_temperatura\\\\')\n",
    "lista_series_cardiovascular = auxi.leer_series('..\\miss_valued_data_cardiovascular\\\\')\n",
    "lista_series_sunspots = auxi.leer_series('..\\miss_valued_data_manchas_solares\\\\')"
   ]
  },
  {
   "cell_type": "markdown",
   "metadata": {},
   "source": [
    "## Escalar datos"
   ]
  },
  {
   "cell_type": "markdown",
   "metadata": {},
   "source": [
    "### Temperatura"
   ]
  },
  {
   "cell_type": "code",
   "execution_count": 7,
   "metadata": {},
   "outputs": [],
   "source": [
    "min_max_scaler_temperatura = MinMaxScaler().fit(serie_temperatura.values.reshape(-1,1))\n",
    "serie_original_temperatura_escalada = auxi.aplicar_escalado(serie_temperatura, min_max_scaler_temperatura)\n",
    "series_temperatura_escaladas = auxi.escalar(min_max_scaler_temperatura, lista_series_temperatura)"
   ]
  },
  {
   "cell_type": "markdown",
   "metadata": {},
   "source": [
    "### Cardiovascular"
   ]
  },
  {
   "cell_type": "code",
   "execution_count": 8,
   "metadata": {},
   "outputs": [],
   "source": [
    "min_max_scaler_cardiovascular = MinMaxScaler().fit(serie_cardiovascular.values.reshape(-1,1))\n",
    "serie_original_cardiovascular_escalada = auxi.aplicar_escalado(serie_cardiovascular, min_max_scaler_cardiovascular)\n",
    "series_cardiovascular_escaladas = auxi.escalar(min_max_scaler_cardiovascular, lista_series_cardiovascular)"
   ]
  },
  {
   "cell_type": "markdown",
   "metadata": {},
   "source": [
    "### Manchas solares"
   ]
  },
  {
   "cell_type": "code",
   "execution_count": 9,
   "metadata": {},
   "outputs": [],
   "source": [
    "min_max_scaler_sunspots = MinMaxScaler().fit(serie_sunspots.values.reshape(-1,1))\n",
    "serie_original_sunspots_escalada = auxi.aplicar_escalado(serie_sunspots, min_max_scaler_sunspots)\n",
    "series_sunspots_escaladas = auxi.escalar(min_max_scaler_sunspots, lista_series_sunspots)"
   ]
  },
  {
   "cell_type": "markdown",
   "metadata": {},
   "source": [
    "## Imputamos mediana"
   ]
  },
  {
   "cell_type": "code",
   "execution_count": 10,
   "metadata": {},
   "outputs": [
    {
     "data": {
      "text/html": [
       "<div>\n",
       "<style scoped>\n",
       "    .dataframe tbody tr th:only-of-type {\n",
       "        vertical-align: middle;\n",
       "    }\n",
       "\n",
       "    .dataframe tbody tr th {\n",
       "        vertical-align: top;\n",
       "    }\n",
       "\n",
       "    .dataframe thead th {\n",
       "        text-align: right;\n",
       "    }\n",
       "</style>\n",
       "<table border=\"1\" class=\"dataframe\">\n",
       "  <thead>\n",
       "    <tr style=\"text-align: right;\">\n",
       "      <th></th>\n",
       "      <th>Dataset</th>\n",
       "      <th>RMSE</th>\n",
       "      <th>MAE</th>\n",
       "      <th>MAPE</th>\n",
       "      <th>BIAS</th>\n",
       "    </tr>\n",
       "  </thead>\n",
       "  <tbody>\n",
       "    <tr>\n",
       "      <th>0</th>\n",
       "      <td>min_temperature_bateria_10.csv</td>\n",
       "      <td>0.055874</td>\n",
       "      <td>0.014254</td>\n",
       "      <td>3.667503</td>\n",
       "      <td>-0.001819</td>\n",
       "    </tr>\n",
       "    <tr>\n",
       "      <th>1</th>\n",
       "      <td>min_temperature_bateria_15.csv</td>\n",
       "      <td>0.063456</td>\n",
       "      <td>0.019671</td>\n",
       "      <td>4.956604</td>\n",
       "      <td>-0.001137</td>\n",
       "    </tr>\n",
       "    <tr>\n",
       "      <th>2</th>\n",
       "      <td>min_temperature_bateria_20.csv</td>\n",
       "      <td>0.074127</td>\n",
       "      <td>0.027095</td>\n",
       "      <td>7.074714</td>\n",
       "      <td>-0.006938</td>\n",
       "    </tr>\n",
       "    <tr>\n",
       "      <th>3</th>\n",
       "      <td>min_temperature_error_medida_10.csv</td>\n",
       "      <td>0.049684</td>\n",
       "      <td>0.012842</td>\n",
       "      <td>3.155294</td>\n",
       "      <td>0.000281</td>\n",
       "    </tr>\n",
       "    <tr>\n",
       "      <th>4</th>\n",
       "      <td>min_temperature_error_medida_15.csv</td>\n",
       "      <td>0.060875</td>\n",
       "      <td>0.019188</td>\n",
       "      <td>4.780325</td>\n",
       "      <td>0.000008</td>\n",
       "    </tr>\n",
       "    <tr>\n",
       "      <th>5</th>\n",
       "      <td>min_temperature_error_medida_20.csv</td>\n",
       "      <td>0.068149</td>\n",
       "      <td>0.024552</td>\n",
       "      <td>6.086141</td>\n",
       "      <td>0.001445</td>\n",
       "    </tr>\n",
       "    <tr>\n",
       "      <th>6</th>\n",
       "      <td>min_temperature_interferencias_10.csv</td>\n",
       "      <td>0.051471</td>\n",
       "      <td>0.013194</td>\n",
       "      <td>3.202149</td>\n",
       "      <td>0.001325</td>\n",
       "    </tr>\n",
       "    <tr>\n",
       "      <th>7</th>\n",
       "      <td>min_temperature_interferencias_15.csv</td>\n",
       "      <td>0.062235</td>\n",
       "      <td>0.019510</td>\n",
       "      <td>4.807837</td>\n",
       "      <td>-0.000255</td>\n",
       "    </tr>\n",
       "    <tr>\n",
       "      <th>8</th>\n",
       "      <td>min_temperature_interferencias_20.csv</td>\n",
       "      <td>0.073114</td>\n",
       "      <td>0.026436</td>\n",
       "      <td>6.501589</td>\n",
       "      <td>0.001561</td>\n",
       "    </tr>\n",
       "    <tr>\n",
       "      <th>9</th>\n",
       "      <td>min_temperature_mix_10.csv</td>\n",
       "      <td>0.050761</td>\n",
       "      <td>0.012788</td>\n",
       "      <td>3.121034</td>\n",
       "      <td>0.000446</td>\n",
       "    </tr>\n",
       "    <tr>\n",
       "      <th>10</th>\n",
       "      <td>min_temperature_mix_15.csv</td>\n",
       "      <td>0.059883</td>\n",
       "      <td>0.018651</td>\n",
       "      <td>4.510822</td>\n",
       "      <td>0.002153</td>\n",
       "    </tr>\n",
       "    <tr>\n",
       "      <th>11</th>\n",
       "      <td>min_temperature_mix_20.csv</td>\n",
       "      <td>0.070763</td>\n",
       "      <td>0.025688</td>\n",
       "      <td>6.400651</td>\n",
       "      <td>-0.000220</td>\n",
       "    </tr>\n",
       "    <tr>\n",
       "      <th>12</th>\n",
       "      <td>cardiovascular_arritmias10.csv</td>\n",
       "      <td>0.050673</td>\n",
       "      <td>0.012904</td>\n",
       "      <td>3.253743</td>\n",
       "      <td>-0.002494</td>\n",
       "    </tr>\n",
       "    <tr>\n",
       "      <th>13</th>\n",
       "      <td>cardiovascular_arritmias15.csv</td>\n",
       "      <td>0.064689</td>\n",
       "      <td>0.019954</td>\n",
       "      <td>4.916616</td>\n",
       "      <td>-0.002122</td>\n",
       "    </tr>\n",
       "    <tr>\n",
       "      <th>14</th>\n",
       "      <td>cardiovascular_arritmias20.csv</td>\n",
       "      <td>0.074674</td>\n",
       "      <td>0.026806</td>\n",
       "      <td>6.560667</td>\n",
       "      <td>-0.002263</td>\n",
       "    </tr>\n",
       "    <tr>\n",
       "      <th>15</th>\n",
       "      <td>cardiovascular_bateria_suciedad_humedad10.csv</td>\n",
       "      <td>0.065014</td>\n",
       "      <td>0.016403</td>\n",
       "      <td>3.184057</td>\n",
       "      <td>0.014215</td>\n",
       "    </tr>\n",
       "    <tr>\n",
       "      <th>16</th>\n",
       "      <td>cardiovascular_bateria_suciedad_humedad15.csv</td>\n",
       "      <td>0.062890</td>\n",
       "      <td>0.019233</td>\n",
       "      <td>3.981520</td>\n",
       "      <td>0.012118</td>\n",
       "    </tr>\n",
       "    <tr>\n",
       "      <th>17</th>\n",
       "      <td>cardiovascular_bateria_suciedad_humedad20.csv</td>\n",
       "      <td>0.077956</td>\n",
       "      <td>0.027435</td>\n",
       "      <td>5.872262</td>\n",
       "      <td>0.016281</td>\n",
       "    </tr>\n",
       "    <tr>\n",
       "      <th>18</th>\n",
       "      <td>cardiovascular_colocacion10.csv</td>\n",
       "      <td>0.059586</td>\n",
       "      <td>0.015149</td>\n",
       "      <td>3.546299</td>\n",
       "      <td>0.003211</td>\n",
       "    </tr>\n",
       "    <tr>\n",
       "      <th>19</th>\n",
       "      <td>cardiovascular_colocacion15.csv</td>\n",
       "      <td>0.067712</td>\n",
       "      <td>0.020880</td>\n",
       "      <td>4.986361</td>\n",
       "      <td>0.001477</td>\n",
       "    </tr>\n",
       "    <tr>\n",
       "      <th>20</th>\n",
       "      <td>cardiovascular_colocacion20.csv</td>\n",
       "      <td>0.074867</td>\n",
       "      <td>0.026550</td>\n",
       "      <td>6.305971</td>\n",
       "      <td>0.001199</td>\n",
       "    </tr>\n",
       "    <tr>\n",
       "      <th>21</th>\n",
       "      <td>cardiovascular_interferencias10.csv</td>\n",
       "      <td>0.059586</td>\n",
       "      <td>0.015149</td>\n",
       "      <td>3.546299</td>\n",
       "      <td>0.003211</td>\n",
       "    </tr>\n",
       "    <tr>\n",
       "      <th>22</th>\n",
       "      <td>cardiovascular_interferencias15.csv</td>\n",
       "      <td>0.067712</td>\n",
       "      <td>0.020880</td>\n",
       "      <td>4.986361</td>\n",
       "      <td>0.001477</td>\n",
       "    </tr>\n",
       "    <tr>\n",
       "      <th>23</th>\n",
       "      <td>cardiovascular_interferencias20.csv</td>\n",
       "      <td>0.074867</td>\n",
       "      <td>0.026550</td>\n",
       "      <td>6.305971</td>\n",
       "      <td>0.001199</td>\n",
       "    </tr>\n",
       "    <tr>\n",
       "      <th>24</th>\n",
       "      <td>cardiovascular_mix_10.csv</td>\n",
       "      <td>0.063966</td>\n",
       "      <td>0.016661</td>\n",
       "      <td>3.613297</td>\n",
       "      <td>0.007518</td>\n",
       "    </tr>\n",
       "    <tr>\n",
       "      <th>25</th>\n",
       "      <td>cardiovascular_mix_15.csv</td>\n",
       "      <td>0.082690</td>\n",
       "      <td>0.026336</td>\n",
       "      <td>5.601070</td>\n",
       "      <td>0.013368</td>\n",
       "    </tr>\n",
       "    <tr>\n",
       "      <th>26</th>\n",
       "      <td>cardiovascular_mix_20.csv</td>\n",
       "      <td>0.088618</td>\n",
       "      <td>0.032250</td>\n",
       "      <td>7.185000</td>\n",
       "      <td>0.011120</td>\n",
       "    </tr>\n",
       "    <tr>\n",
       "      <th>27</th>\n",
       "      <td>manchas_solares_error_medida_10.csv</td>\n",
       "      <td>0.058922</td>\n",
       "      <td>0.013982</td>\n",
       "      <td>7.215128</td>\n",
       "      <td>0.004856</td>\n",
       "    </tr>\n",
       "    <tr>\n",
       "      <th>28</th>\n",
       "      <td>manchas_solares_error_medida_15.csv</td>\n",
       "      <td>0.073259</td>\n",
       "      <td>0.021254</td>\n",
       "      <td>11.083267</td>\n",
       "      <td>0.006779</td>\n",
       "    </tr>\n",
       "    <tr>\n",
       "      <th>29</th>\n",
       "      <td>manchas_solares_error_medida_20.csv</td>\n",
       "      <td>0.080438</td>\n",
       "      <td>0.027120</td>\n",
       "      <td>14.543310</td>\n",
       "      <td>0.006686</td>\n",
       "    </tr>\n",
       "    <tr>\n",
       "      <th>30</th>\n",
       "      <td>manchas_solares_mix_10.csv</td>\n",
       "      <td>0.061909</td>\n",
       "      <td>0.014694</td>\n",
       "      <td>6.791972</td>\n",
       "      <td>0.007811</td>\n",
       "    </tr>\n",
       "    <tr>\n",
       "      <th>31</th>\n",
       "      <td>manchas_solares_mix_15.csv</td>\n",
       "      <td>0.070808</td>\n",
       "      <td>0.020406</td>\n",
       "      <td>10.653507</td>\n",
       "      <td>0.007489</td>\n",
       "    </tr>\n",
       "    <tr>\n",
       "      <th>32</th>\n",
       "      <td>manchas_solares_mix_20.csv</td>\n",
       "      <td>0.077596</td>\n",
       "      <td>0.026143</td>\n",
       "      <td>13.565287</td>\n",
       "      <td>0.009010</td>\n",
       "    </tr>\n",
       "    <tr>\n",
       "      <th>33</th>\n",
       "      <td>manchas_solares_perdida_de_archivos_10.csv</td>\n",
       "      <td>0.036945</td>\n",
       "      <td>0.009957</td>\n",
       "      <td>6.749157</td>\n",
       "      <td>-0.001172</td>\n",
       "    </tr>\n",
       "    <tr>\n",
       "      <th>34</th>\n",
       "      <td>manchas_solares_perdida_de_archivos_15.csv</td>\n",
       "      <td>0.064977</td>\n",
       "      <td>0.019697</td>\n",
       "      <td>10.963889</td>\n",
       "      <td>0.005198</td>\n",
       "    </tr>\n",
       "    <tr>\n",
       "      <th>35</th>\n",
       "      <td>manchas_solares_perdida_de_archivos_20.csv</td>\n",
       "      <td>0.062275</td>\n",
       "      <td>0.022639</td>\n",
       "      <td>14.191783</td>\n",
       "      <td>-0.000585</td>\n",
       "    </tr>\n",
       "  </tbody>\n",
       "</table>\n",
       "</div>"
      ],
      "text/plain": [
       "                                          Dataset      RMSE       MAE  \\\n",
       "0                  min_temperature_bateria_10.csv  0.055874  0.014254   \n",
       "1                  min_temperature_bateria_15.csv  0.063456  0.019671   \n",
       "2                  min_temperature_bateria_20.csv  0.074127  0.027095   \n",
       "3             min_temperature_error_medida_10.csv  0.049684  0.012842   \n",
       "4             min_temperature_error_medida_15.csv  0.060875  0.019188   \n",
       "5             min_temperature_error_medida_20.csv  0.068149  0.024552   \n",
       "6           min_temperature_interferencias_10.csv  0.051471  0.013194   \n",
       "7           min_temperature_interferencias_15.csv  0.062235  0.019510   \n",
       "8           min_temperature_interferencias_20.csv  0.073114  0.026436   \n",
       "9                      min_temperature_mix_10.csv  0.050761  0.012788   \n",
       "10                     min_temperature_mix_15.csv  0.059883  0.018651   \n",
       "11                     min_temperature_mix_20.csv  0.070763  0.025688   \n",
       "12                 cardiovascular_arritmias10.csv  0.050673  0.012904   \n",
       "13                 cardiovascular_arritmias15.csv  0.064689  0.019954   \n",
       "14                 cardiovascular_arritmias20.csv  0.074674  0.026806   \n",
       "15  cardiovascular_bateria_suciedad_humedad10.csv  0.065014  0.016403   \n",
       "16  cardiovascular_bateria_suciedad_humedad15.csv  0.062890  0.019233   \n",
       "17  cardiovascular_bateria_suciedad_humedad20.csv  0.077956  0.027435   \n",
       "18                cardiovascular_colocacion10.csv  0.059586  0.015149   \n",
       "19                cardiovascular_colocacion15.csv  0.067712  0.020880   \n",
       "20                cardiovascular_colocacion20.csv  0.074867  0.026550   \n",
       "21            cardiovascular_interferencias10.csv  0.059586  0.015149   \n",
       "22            cardiovascular_interferencias15.csv  0.067712  0.020880   \n",
       "23            cardiovascular_interferencias20.csv  0.074867  0.026550   \n",
       "24                      cardiovascular_mix_10.csv  0.063966  0.016661   \n",
       "25                      cardiovascular_mix_15.csv  0.082690  0.026336   \n",
       "26                      cardiovascular_mix_20.csv  0.088618  0.032250   \n",
       "27            manchas_solares_error_medida_10.csv  0.058922  0.013982   \n",
       "28            manchas_solares_error_medida_15.csv  0.073259  0.021254   \n",
       "29            manchas_solares_error_medida_20.csv  0.080438  0.027120   \n",
       "30                     manchas_solares_mix_10.csv  0.061909  0.014694   \n",
       "31                     manchas_solares_mix_15.csv  0.070808  0.020406   \n",
       "32                     manchas_solares_mix_20.csv  0.077596  0.026143   \n",
       "33     manchas_solares_perdida_de_archivos_10.csv  0.036945  0.009957   \n",
       "34     manchas_solares_perdida_de_archivos_15.csv  0.064977  0.019697   \n",
       "35     manchas_solares_perdida_de_archivos_20.csv  0.062275  0.022639   \n",
       "\n",
       "         MAPE      BIAS  \n",
       "0    3.667503 -0.001819  \n",
       "1    4.956604 -0.001137  \n",
       "2    7.074714 -0.006938  \n",
       "3    3.155294  0.000281  \n",
       "4    4.780325  0.000008  \n",
       "5    6.086141  0.001445  \n",
       "6    3.202149  0.001325  \n",
       "7    4.807837 -0.000255  \n",
       "8    6.501589  0.001561  \n",
       "9    3.121034  0.000446  \n",
       "10   4.510822  0.002153  \n",
       "11   6.400651 -0.000220  \n",
       "12   3.253743 -0.002494  \n",
       "13   4.916616 -0.002122  \n",
       "14   6.560667 -0.002263  \n",
       "15   3.184057  0.014215  \n",
       "16   3.981520  0.012118  \n",
       "17   5.872262  0.016281  \n",
       "18   3.546299  0.003211  \n",
       "19   4.986361  0.001477  \n",
       "20   6.305971  0.001199  \n",
       "21   3.546299  0.003211  \n",
       "22   4.986361  0.001477  \n",
       "23   6.305971  0.001199  \n",
       "24   3.613297  0.007518  \n",
       "25   5.601070  0.013368  \n",
       "26   7.185000  0.011120  \n",
       "27   7.215128  0.004856  \n",
       "28  11.083267  0.006779  \n",
       "29  14.543310  0.006686  \n",
       "30   6.791972  0.007811  \n",
       "31  10.653507  0.007489  \n",
       "32  13.565287  0.009010  \n",
       "33   6.749157 -0.001172  \n",
       "34  10.963889  0.005198  \n",
       "35  14.191783 -0.000585  "
      ]
     },
     "execution_count": 10,
     "metadata": {},
     "output_type": "execute_result"
    }
   ],
   "source": [
    "#dataframe_temperatura_mediana = imputar_mediana(serie_temperatura, lista_series_temperatura)\n",
    "dataframe_temperatura_mediana = imputar_mediana(serie_original_temperatura_escalada, series_temperatura_escaladas)\n",
    "#dataframe_cardiovascular_mediana = imputar_mediana(serie_cardiovascular, lista_series_cardiovascular)\n",
    "dataframe_cardiovascular_mediana = imputar_mediana(serie_original_cardiovascular_escalada, series_cardiovascular_escaladas)\n",
    "#dataframe_manchas_solares_mediana = imputar_mediana(serie_sunspots, lista_series_sunspots)\n",
    "dataframe_manchas_solares_mediana = imputar_mediana(serie_original_sunspots_escalada, series_sunspots_escaladas)\n",
    "dataframe_general_mediana = pd.concat([dataframe_temperatura_mediana, dataframe_cardiovascular_mediana, dataframe_manchas_solares_mediana], ignore_index=True)\n",
    "dataframe_general_mediana"
   ]
  }
 ],
 "metadata": {
  "kernelspec": {
   "display_name": "env",
   "language": "python",
   "name": "python3"
  },
  "language_info": {
   "codemirror_mode": {
    "name": "ipython",
    "version": 3
   },
   "file_extension": ".py",
   "mimetype": "text/x-python",
   "name": "python",
   "nbconvert_exporter": "python",
   "pygments_lexer": "ipython3",
   "version": "3.13.2"
  }
 },
 "nbformat": 4,
 "nbformat_minor": 2
}
