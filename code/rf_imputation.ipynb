{
 "cells": [
  {
   "cell_type": "markdown",
   "metadata": {},
   "source": [
    "# Imputación con Random forest"
   ]
  },
  {
   "cell_type": "markdown",
   "metadata": {},
   "source": [
    "## Preparar librerias"
   ]
  },
  {
   "cell_type": "code",
   "execution_count": 301,
   "metadata": {},
   "outputs": [],
   "source": [
    "import pandas as pd\n",
    "import numpy as np\n",
    "import matplotlib.pyplot as plt\n",
    "#import random\n",
    "import warnings\n",
    "import math\n",
    "#from sklearn.preprocessing import StandardScaler\n",
    "from sklearn.preprocessing import MinMaxScaler\n",
    "#from sklearn.preprocessing import Normalizer\n",
    "from sklearn.metrics import mean_squared_error\n",
    "from sklearn.model_selection import KFold\n",
    "from sklearn.model_selection import cross_val_score\n",
    "from sklearn.model_selection import GridSearchCV\n",
    "from sklearn.ensemble import RandomForestRegressor\n",
    "import importlib.util\n",
    "\n",
    "# Especifica la ruta al archivo del módulo\n",
    "ruta_al_modulo = './util/auxi.py'\n",
    "\n",
    "# Importa el módulo\n",
    "spec = importlib.util.spec_from_file_location(\"auxi\", ruta_al_modulo)\n",
    "auxi = importlib.util.module_from_spec(spec)\n",
    "spec.loader.exec_module(auxi)"
   ]
  },
  {
   "cell_type": "markdown",
   "metadata": {},
   "source": [
    "## Leer datos originales"
   ]
  },
  {
   "cell_type": "markdown",
   "metadata": {},
   "source": [
    "Hay que leer el dataset original para comparar los datos imputados con los reales"
   ]
  },
  {
   "cell_type": "markdown",
   "metadata": {},
   "source": [
    "Temperatura"
   ]
  },
  {
   "cell_type": "code",
   "execution_count": 240,
   "metadata": {},
   "outputs": [
    {
     "data": {
      "text/plain": [
       "Date\n",
       "1981-01-01    20.7\n",
       "1981-01-02    17.9\n",
       "1981-01-03    18.8\n",
       "1981-01-04    14.6\n",
       "1981-01-05    15.8\n",
       "Freq: D, Name: Daily minimum temperatures in Melbourne, Australia, 1981-1990, dtype: float64"
      ]
     },
     "execution_count": 240,
     "metadata": {},
     "output_type": "execute_result"
    }
   ],
   "source": [
    "warnings.filterwarnings('ignore', category=SyntaxWarning)  # Porque el \\d de \\data y \\daily lo toma como un valor especial\n",
    "dataframe_temperatura = pd.read_csv(\"..\\data\\daily-minimum-temperatures-in-me.csv\", header=0, index_col=0, parse_dates=True)\n",
    "serie_temperatura = dataframe_temperatura.squeeze('columns')\n",
    "serie_temperatura = serie_temperatura.resample('D').mean()\n",
    "serie_temperatura['1984-12-31'] = (serie_temperatura['1984-12-30'] + serie_temperatura['1985-01-01'])/2\n",
    "serie_temperatura['1988-12-31'] = (serie_temperatura['1988-12-30'] + serie_temperatura['1989-01-01'])/2\n",
    "serie_temperatura.head()"
   ]
  },
  {
   "cell_type": "markdown",
   "metadata": {},
   "source": [
    "Cardiovascular"
   ]
  },
  {
   "cell_type": "code",
   "execution_count": 241,
   "metadata": {},
   "outputs": [
    {
     "name": "stderr",
     "output_type": "stream",
     "text": [
      "C:\\Users\\alaba\\AppData\\Local\\Temp\\ipykernel_3300\\3747356855.py:1: UserWarning: Could not infer format, so each element will be parsed individually, falling back to `dateutil`. To ensure parsing is consistent and as-expected, please specify a format.\n",
      "  dataframe_cardiovascular = pd.read_csv(\"..\\data\\\\ads_hour.csv\", header=0, index_col=0, parse_dates=True)\n"
     ]
    },
    {
     "data": {
      "text/plain": [
       "Date\n",
       "2017-08-03 00:00:00    49136.0\n",
       "2017-08-03 01:00:00    46450.0\n",
       "2017-08-03 02:00:00    46355.0\n",
       "2017-08-03 03:00:00    43748.0\n",
       "2017-08-03 04:00:00    42281.0\n",
       "Name: ads, dtype: float64"
      ]
     },
     "execution_count": 241,
     "metadata": {},
     "output_type": "execute_result"
    }
   ],
   "source": [
    "dataframe_cardiovascular = pd.read_csv(\"..\\data\\\\ads_hour.csv\", header=0, index_col=0, parse_dates=True)\n",
    "serie_cardiovascular = dataframe_cardiovascular.squeeze('columns')\n",
    "serie_cardiovascular = serie_cardiovascular.astype(float)\n",
    "serie_cardiovascular.head()"
   ]
  },
  {
   "cell_type": "markdown",
   "metadata": {},
   "source": [
    "Manchas solares"
   ]
  },
  {
   "cell_type": "code",
   "execution_count": 242,
   "metadata": {},
   "outputs": [
    {
     "data": {
      "text/plain": [
       "Month\n",
       "1749-01-31    58.0\n",
       "1749-02-28    62.6\n",
       "1749-03-31    70.0\n",
       "1749-04-30    55.7\n",
       "1749-05-31    85.0\n",
       "Freq: ME, Name: Sunspots, dtype: float64"
      ]
     },
     "execution_count": 242,
     "metadata": {},
     "output_type": "execute_result"
    }
   ],
   "source": [
    "dataframe_sunspots = pd.read_csv(\"..\\data\\monthly-sunspots.csv\", header=0, index_col=0, parse_dates=True)\n",
    "serie_sunspots = dataframe_sunspots.squeeze('columns')\n",
    "serie_sunspots = serie_sunspots.resample('ME').mean() # Para los meses\n",
    "serie_sunspots.head()"
   ]
  },
  {
   "cell_type": "markdown",
   "metadata": {},
   "source": [
    "## Funciones"
   ]
  },
  {
   "cell_type": "markdown",
   "metadata": {},
   "source": [
    "### Gridding"
   ]
  },
  {
   "cell_type": "code",
   "execution_count": 243,
   "metadata": {},
   "outputs": [],
   "source": [
    "def gridding(lista, grid):\n",
    "    for serie in lista:\n",
    "        grid_result = grid.fit(serie.values.reshape(-1,1), serie.values.reshape(-1,1).ravel())\n",
    "        print(serie.name+\" -> Best: %f using %s\" % (grid_result.best_score_, grid_result.best_params_))"
   ]
  },
  {
   "cell_type": "markdown",
   "metadata": {},
   "source": [
    "### RandomForest"
   ]
  },
  {
   "cell_type": "code",
   "execution_count": 244,
   "metadata": {},
   "outputs": [],
   "source": [
    "def imputar_rf(serie, lista_entrenamiento, lista_test, n, lista):\n",
    "    dataframe_rf = pd.DataFrame({\n",
    "        'Dataset': [],\n",
    "        'RMSE': [],\n",
    "        'MAE': [],\n",
    "        'MAPE': [],\n",
    "        'BIAS': []\n",
    "    })\n",
    "    model = RandomForestRegressor(n_estimators=n)\n",
    "    lista_series = []\n",
    "    for i in range(0, len(lista_entrenamiento)):\n",
    "         \n",
    "        # Imputamos con la mediana\n",
    "        model.fit(lista_entrenamiento[i].values.reshape(-1,1), lista_entrenamiento[i].values.reshape(-1,1).ravel())\n",
    "        serie_rf = model.predict(lista_test[i].values.reshape(-1,1))\n",
    "        if (i==0):\n",
    "            print(serie_rf)\n",
    "        # Calculamos la raiz del error cuadrático medio con las series imputadas con la mediana\n",
    "        #rmse_rf = auxi.RMSE(serie, lista[i], serie_rf)\n",
    "        # Calculamos el error medio absoluto con las series imputadas con la mediana\n",
    "        #mae_rf = auxi.MAE(serie, lista[i], serie_rf)\n",
    "        # Calculamos el error medio absoluto porcentual con las series imputadas con la mediana\n",
    "        #mape_rf = auxi.MAPE(serie, lista[i], serie_rf)\n",
    "        # Calculamos el bias con las series imputadas con la mediana\n",
    "        #bias_rf = auxi.BIAS(serie, lista[i], serie_rf)\n",
    "\n",
    "        nueva_fila = pd.DataFrame({ 'Dataset': [lista_entrenamiento[i].name]})\n",
    "        dataframe_rf = pd.concat([dataframe_rf, nueva_fila], ignore_index=True)\n",
    "        lista_series.append(serie_rf)\n",
    "    return dataframe_rf, lista_series"
   ]
  },
  {
   "cell_type": "markdown",
   "metadata": {},
   "source": [
    "### Crear lag"
   ]
  },
  {
   "cell_type": "code",
   "execution_count": 246,
   "metadata": {},
   "outputs": [],
   "source": [
    "def create_lag_features(series, lag=3):\n",
    "    df = pd.DataFrame(series)\n",
    "    for i in range(1, lag+1):\n",
    "        df[f'lag_{i}'] = df[series.name].shift(i)\n",
    "    #df.dropna(inplace=True)  # Remove rows with NaN values\n",
    "    return df"
   ]
  },
  {
   "cell_type": "markdown",
   "metadata": {},
   "source": [
    "## Listar"
   ]
  },
  {
   "cell_type": "code",
   "execution_count": 247,
   "metadata": {},
   "outputs": [],
   "source": [
    "lista_series_temperatura = auxi.leer_series('..\\miss_valued_data_temperatura\\\\')\n",
    "lista_series_cardiovascular = auxi.leer_series('..\\miss_valued_data_cardiovascular\\\\')\n",
    "lista_series_sunspots = auxi.leer_series('..\\miss_valued_data_manchas_solares\\\\')"
   ]
  },
  {
   "cell_type": "markdown",
   "metadata": {},
   "source": [
    "## Escalar datos"
   ]
  },
  {
   "cell_type": "markdown",
   "metadata": {},
   "source": [
    "### Temperatura"
   ]
  },
  {
   "cell_type": "code",
   "execution_count": 248,
   "metadata": {},
   "outputs": [],
   "source": [
    "min_max_scaler_temperatura = MinMaxScaler().fit(serie_temperatura.values.reshape(-1,1))\n",
    "serie_original_temperatura_escalada = auxi.aplicar_escalado(serie_temperatura, min_max_scaler_temperatura)\n",
    "series_temperatura_escaladas = auxi.escalar(min_max_scaler_temperatura, lista_series_temperatura)"
   ]
  },
  {
   "cell_type": "markdown",
   "metadata": {},
   "source": [
    "### Cardiovascular"
   ]
  },
  {
   "cell_type": "code",
   "execution_count": 249,
   "metadata": {},
   "outputs": [],
   "source": [
    "min_max_scaler_cardiovascular = MinMaxScaler().fit(serie_cardiovascular.values.reshape(-1,1))\n",
    "serie_original_cardiovascular_escalada = auxi.aplicar_escalado(serie_cardiovascular, min_max_scaler_cardiovascular)\n",
    "series_cardiovascular_escaladas = auxi.escalar(min_max_scaler_cardiovascular, lista_series_cardiovascular)"
   ]
  },
  {
   "cell_type": "markdown",
   "metadata": {},
   "source": [
    "### Manchas solares"
   ]
  },
  {
   "cell_type": "code",
   "execution_count": 250,
   "metadata": {},
   "outputs": [],
   "source": [
    "min_max_scaler_sunspots = MinMaxScaler().fit(serie_sunspots.values.reshape(-1,1))\n",
    "serie_original_sunspots_escalada = auxi.aplicar_escalado(serie_sunspots, min_max_scaler_sunspots)\n",
    "series_sunspots_escaladas = auxi.escalar(min_max_scaler_sunspots, lista_series_sunspots)"
   ]
  },
  {
   "cell_type": "markdown",
   "metadata": {},
   "source": [
    "## Separar train y test"
   ]
  },
  {
   "cell_type": "code",
   "execution_count": 251,
   "metadata": {},
   "outputs": [],
   "source": [
    "series_temperatura_entrenamiento, series_temperatura_test = auxi.train_test(series_temperatura_escaladas)\n",
    "serie_temperatura_entrenamiento, serie_temperatura_test = auxi.train_test_individual(serie_original_temperatura_escalada)\n",
    "series_cardiovascular_entrenamiento, series_cardiovascular_test = auxi.train_test(series_cardiovascular_escaladas)\n",
    "serie_cardiovascular_entrenamiento, serie_cardiovascular_test = auxi.train_test_individual(serie_original_cardiovascular_escalada)\n",
    "series_sunspots_entrenamiento, series_sunspots_test = auxi.train_test(series_sunspots_escaladas)\n",
    "serie_sunspots_entrenamiento, serie_sunspots_test = auxi.train_test_individual(serie_original_sunspots_escalada)"
   ]
  },
  {
   "cell_type": "markdown",
   "metadata": {},
   "source": [
    "## Establecer valores validación"
   ]
  },
  {
   "cell_type": "code",
   "execution_count": 252,
   "metadata": {},
   "outputs": [],
   "source": [
    "num_folds = 10\n",
    "seed = 7\n",
    "scoring = 'neg_root_mean_squared_error'\n",
    "kfold = KFold(n_splits=num_folds, random_state=seed, shuffle=True)\n",
    "param_grid = dict(n_estimators=range(100,200,50), min_samples_split=range(2,5), min_samples_leaf=range(1,3))\n",
    "grid = GridSearchCV(estimator=RandomForestRegressor(), param_grid=param_grid, scoring=scoring, cv=kfold)"
   ]
  },
  {
   "cell_type": "markdown",
   "metadata": {},
   "source": [
    "## Busqueda de hiper-parámetros"
   ]
  },
  {
   "cell_type": "code",
   "execution_count": 336,
   "metadata": {},
   "outputs": [],
   "source": [
    "df_temperatura_lag = create_lag_features(series_temperatura_escaladas[0], 50)"
   ]
  },
  {
   "cell_type": "code",
   "execution_count": 337,
   "metadata": {},
   "outputs": [],
   "source": [
    "df_entrenamiento = df_temperatura_lag[df_temperatura_lag[series_temperatura_escaladas[0].name].isna()==False]\n",
    "df_test = df_temperatura_lag[df_temperatura_lag[series_temperatura_escaladas[0].name].isna()]"
   ]
  },
  {
   "cell_type": "code",
   "execution_count": 338,
   "metadata": {},
   "outputs": [],
   "source": [
    "Y_test = serie_original_temperatura_escalada[df_temperatura_lag[df_temperatura_lag[series_temperatura_escaladas[0].name].isna()].index]"
   ]
  },
  {
   "cell_type": "code",
   "execution_count": 339,
   "metadata": {},
   "outputs": [
    {
     "data": {
      "text/plain": [
       "Date\n",
       "1981-06-01    0.441065\n",
       "1981-06-02    0.403042\n",
       "1981-06-03    0.372624\n",
       "1981-06-04    0.425856\n",
       "1981-06-05    0.216730\n",
       "                ...   \n",
       "1990-10-02    0.399240\n",
       "1990-10-03    0.376426\n",
       "1990-10-04    0.418251\n",
       "1990-10-05    0.532319\n",
       "1990-10-06    0.349810\n",
       "Name: Daily minimum temperatures in Melbourne, Australia, 1981-1990, Length: 365, dtype: float64"
      ]
     },
     "execution_count": 339,
     "metadata": {},
     "output_type": "execute_result"
    }
   ],
   "source": [
    "Y_test"
   ]
  },
  {
   "cell_type": "code",
   "execution_count": 340,
   "metadata": {},
   "outputs": [],
   "source": [
    "X_train = df_entrenamiento[['lag_1', 'lag_2', 'lag_3']]\n",
    "Y_train = df_entrenamiento[series_temperatura_entrenamiento[0].name]\n",
    "X_test = df_test[['lag_1', 'lag_2', 'lag_3']]\n",
    "#Y_test = df_test[series_temperatura_entrenamiento[0].name]"
   ]
  },
  {
   "cell_type": "code",
   "execution_count": null,
   "metadata": {},
   "outputs": [
    {
     "name": "stdout",
     "output_type": "stream",
     "text": [
      "-0.10219186118634507 0.004899827351881472\n"
     ]
    }
   ],
   "source": [
    "#result_rf_e = cross_val_score(RandomForestRegressor(), X, Y, cv=kfold, scoring=scoring)\n",
    "#print(result_rf_e.mean(), result_rf_e.std())"
   ]
  },
  {
   "cell_type": "code",
   "execution_count": 341,
   "metadata": {},
   "outputs": [],
   "source": [
    "model = RandomForestRegressor()\n",
    "model.fit(X_train, Y_train)\n",
    "serie_rf = model.predict(X_test)"
   ]
  },
  {
   "cell_type": "code",
   "execution_count": 342,
   "metadata": {},
   "outputs": [
    {
     "data": {
      "text/plain": [
       "array([0.51413181, 0.55144487, 0.55418068, 0.4061313 , 0.4061313 ,\n",
       "       0.4061313 , 0.4061313 , 0.4061313 , 0.4061313 , 0.4061313 ,\n",
       "       0.4061313 , 0.4061313 , 0.4061313 , 0.4061313 , 0.4061313 ,\n",
       "       0.4061313 , 0.4061313 , 0.4061313 , 0.4061313 , 0.4061313 ,\n",
       "       0.4061313 , 0.4061313 , 0.57771863, 0.53690589, 0.57404978,\n",
       "       0.4061313 , 0.4061313 , 0.4061313 , 0.4061313 , 0.4061313 ,\n",
       "       0.4061313 , 0.4061313 , 0.4061313 , 0.4061313 , 0.4061313 ,\n",
       "       0.4061313 , 0.4061313 , 0.4061313 , 0.4061313 , 0.4061313 ,\n",
       "       0.4061313 , 0.4061313 , 0.4061313 , 0.4061313 , 0.4061313 ,\n",
       "       0.4061313 , 0.4061313 , 0.4061313 , 0.4061313 , 0.45032319,\n",
       "       0.52479087, 0.49132991, 0.4061313 , 0.4061313 , 0.4061313 ,\n",
       "       0.4061313 , 0.4061313 , 0.4061313 , 0.4061313 , 0.4061313 ,\n",
       "       0.4061313 , 0.4061313 , 0.4061313 , 0.4061313 , 0.4061313 ,\n",
       "       0.4061313 , 0.4061313 , 0.4061313 , 0.4061313 , 0.4061313 ,\n",
       "       0.4061313 , 0.4061313 , 0.4061313 , 0.4061313 , 0.4061313 ,\n",
       "       0.4061313 , 0.4061313 , 0.4061313 , 0.4061313 , 0.4061313 ,\n",
       "       0.4061313 , 0.4061313 , 0.4061313 , 0.4061313 , 0.4061313 ,\n",
       "       0.4061313 , 0.4061313 , 0.4061313 , 0.4061313 , 0.4061313 ,\n",
       "       0.4061313 , 0.4061313 , 0.4061313 , 0.4061313 , 0.4061313 ,\n",
       "       0.4061313 , 0.4061313 , 0.4061313 , 0.4061313 , 0.4061313 ,\n",
       "       0.4061313 , 0.4061313 , 0.4061313 , 0.4061313 , 0.4061313 ,\n",
       "       0.4061313 , 0.4061313 , 0.4061313 , 0.4061313 , 0.4061313 ,\n",
       "       0.4061313 , 0.4061313 , 0.4061313 , 0.4061313 , 0.4061313 ,\n",
       "       0.4061313 , 0.19752852, 0.35233994, 0.33883418, 0.4061313 ,\n",
       "       0.4061313 , 0.4061313 , 0.4061313 , 0.4061313 , 0.4061313 ,\n",
       "       0.4061313 , 0.4061313 , 0.4061313 , 0.4061313 , 0.4061313 ,\n",
       "       0.4061313 , 0.4061313 , 0.4061313 , 0.4061313 , 0.4061313 ,\n",
       "       0.4061313 , 0.4061313 , 0.4061313 , 0.4061313 , 0.4061313 ,\n",
       "       0.4061313 , 0.4061313 , 0.3791635 , 0.33166414, 0.48985597,\n",
       "       0.4061313 , 0.4061313 , 0.4061313 , 0.4061313 , 0.4061313 ,\n",
       "       0.4061313 , 0.4061313 , 0.4061313 , 0.4061313 , 0.4061313 ,\n",
       "       0.4061313 , 0.4061313 , 0.4061313 , 0.4061313 , 0.4061313 ,\n",
       "       0.4061313 , 0.4061313 , 0.4061313 , 0.4061313 , 0.4061313 ,\n",
       "       0.4061313 , 0.4061313 , 0.4061313 , 0.4061313 , 0.4061313 ,\n",
       "       0.59418251, 0.53391635, 0.56566786, 0.4061313 , 0.4061313 ,\n",
       "       0.4061313 , 0.4061313 , 0.4061313 , 0.4061313 , 0.4061313 ,\n",
       "       0.4061313 , 0.4061313 , 0.4061313 , 0.4061313 , 0.4061313 ,\n",
       "       0.4061313 , 0.4061313 , 0.4061313 , 0.4061313 , 0.4061313 ,\n",
       "       0.4061313 , 0.4061313 , 0.4061313 , 0.4061313 , 0.4061313 ,\n",
       "       0.4061313 , 0.4061313 , 0.4061313 , 0.4061313 , 0.4061313 ,\n",
       "       0.4061313 , 0.4061313 , 0.44273764, 0.49266895, 0.55117054,\n",
       "       0.4061313 , 0.4061313 , 0.4061313 , 0.27555133, 0.30401641,\n",
       "       0.32994525, 0.4061313 , 0.4061313 , 0.4061313 , 0.4061313 ,\n",
       "       0.4061313 , 0.4061313 , 0.4061313 , 0.4061313 , 0.4061313 ,\n",
       "       0.4061313 , 0.4061313 , 0.4061313 , 0.4061313 , 0.4061313 ,\n",
       "       0.4061313 , 0.4061313 , 0.4061313 , 0.4061313 , 0.4061313 ,\n",
       "       0.4061313 , 0.4061313 , 0.4061313 , 0.4061313 , 0.4061313 ,\n",
       "       0.4061313 , 0.4061313 , 0.4061313 , 0.4061313 , 0.4061313 ,\n",
       "       0.4061313 , 0.4061313 , 0.4061313 , 0.42844106, 0.58776669,\n",
       "       0.55418068, 0.4061313 , 0.4061313 , 0.4061313 , 0.4061313 ,\n",
       "       0.4061313 , 0.4061313 , 0.4061313 , 0.4061313 , 0.4061313 ,\n",
       "       0.4061313 , 0.4061313 , 0.4061313 , 0.4061313 , 0.4061313 ,\n",
       "       0.4061313 , 0.4061313 , 0.4061313 , 0.4061313 , 0.4061313 ,\n",
       "       0.4061313 , 0.4061313 , 0.4061313 , 0.4061313 , 0.4061313 ,\n",
       "       0.4061313 , 0.4051711 , 0.3738403 , 0.46851711, 0.53680608,\n",
       "       0.4171199 , 0.4061313 , 0.4061313 , 0.4061313 , 0.4061313 ,\n",
       "       0.4061313 , 0.4061313 , 0.4061313 , 0.4061313 , 0.4061313 ,\n",
       "       0.4061313 , 0.4061313 , 0.4061313 , 0.4061313 , 0.4061313 ,\n",
       "       0.4061313 , 0.4061313 , 0.4061313 , 0.4061313 , 0.4061313 ,\n",
       "       0.4061313 , 0.4061313 , 0.4061313 , 0.4061313 , 0.4061313 ,\n",
       "       0.4061313 , 0.4061313 , 0.4061313 , 0.4061313 , 0.4061313 ,\n",
       "       0.4061313 , 0.2169455 , 0.32994714, 0.3490712 , 0.4061313 ,\n",
       "       0.4061313 , 0.4061313 , 0.4061313 , 0.4061313 , 0.4061313 ,\n",
       "       0.4061313 , 0.4061313 , 0.4061313 , 0.4061313 , 0.4061313 ,\n",
       "       0.4061313 , 0.4061313 , 0.4061313 , 0.4061313 , 0.4061313 ,\n",
       "       0.4061313 , 0.4061313 , 0.4061313 , 0.4061313 , 0.4061313 ,\n",
       "       0.4061313 , 0.4061313 , 0.4061313 , 0.4061313 , 0.62657795,\n",
       "       0.52684411, 0.56547775, 0.4061313 , 0.4061313 , 0.4061313 ,\n",
       "       0.4061313 , 0.4061313 , 0.4061313 , 0.4061313 , 0.4061313 ,\n",
       "       0.4061313 , 0.4061313 , 0.4061313 , 0.4061313 , 0.4061313 ,\n",
       "       0.4061313 , 0.4061313 , 0.4061313 , 0.4061313 , 0.4061313 ,\n",
       "       0.34809886, 0.5803773 , 0.35376563, 0.4061313 , 0.4061313 ,\n",
       "       0.4061313 , 0.4061313 , 0.4061313 , 0.4061313 , 0.4061313 ])"
      ]
     },
     "execution_count": 342,
     "metadata": {},
     "output_type": "execute_result"
    }
   ],
   "source": [
    "serie_rf"
   ]
  },
  {
   "cell_type": "code",
   "execution_count": 343,
   "metadata": {},
   "outputs": [],
   "source": [
    "suma=0\n",
    "for i in range(0,len(Y_test)):\n",
    "    suma += (Y_test.iloc[i] - serie_rf[i])**2\n",
    "suma = math.sqrt(suma/len(Y_test))"
   ]
  },
  {
   "cell_type": "code",
   "execution_count": 344,
   "metadata": {},
   "outputs": [
    {
     "data": {
      "text/plain": [
       "0.1745943410465142"
      ]
     },
     "execution_count": 344,
     "metadata": {},
     "output_type": "execute_result"
    }
   ],
   "source": [
    "suma"
   ]
  },
  {
   "cell_type": "code",
   "execution_count": null,
   "metadata": {},
   "outputs": [
    {
     "name": "stdout",
     "output_type": "stream",
     "text": [
      "[0.40471483 0.40471483 0.40471483 0.40471483 0.40471483 0.40471483\n",
      " 0.40471483 0.40471483 0.40471483 0.40471483 0.40471483 0.40471483\n",
      " 0.40471483 0.40471483 0.40471483 0.40471483 0.40471483 0.40471483\n",
      " 0.40471483 0.40471483 0.40471483 0.40471483 0.40471483 0.40471483\n",
      " 0.40471483 0.40471483 0.40471483 0.40471483 0.40471483 0.40471483\n",
      " 0.40471483 0.40471483 0.40471483 0.40471483 0.40471483 0.40471483\n",
      " 0.40471483 0.40471483 0.40471483 0.40471483 0.40471483 0.40471483\n",
      " 0.40471483 0.40471483 0.40471483 0.40471483 0.40471483 0.40471483\n",
      " 0.40471483 0.40471483 0.40471483 0.40471483 0.40471483 0.40471483\n",
      " 0.40471483 0.40471483 0.40471483 0.40471483 0.40471483 0.40471483\n",
      " 0.40471483 0.40471483 0.40471483 0.40471483 0.40471483 0.40471483\n",
      " 0.40471483 0.40471483 0.40471483 0.40471483 0.40471483 0.40471483\n",
      " 0.40471483 0.40471483 0.40471483 0.40471483 0.40471483 0.40471483\n",
      " 0.40471483 0.40471483 0.40471483 0.40471483 0.40471483 0.40471483\n",
      " 0.40471483 0.40471483 0.40471483 0.40471483 0.40471483 0.40471483\n",
      " 0.40471483 0.40471483 0.40471483 0.40471483 0.40471483 0.40471483\n",
      " 0.40471483 0.40471483 0.40471483 0.40471483 0.40471483 0.40471483\n",
      " 0.40471483 0.40471483 0.40471483 0.40471483 0.40471483 0.40471483\n",
      " 0.40471483 0.40471483 0.40471483 0.40471483 0.40471483 0.40471483\n",
      " 0.40471483 0.40471483 0.40471483 0.40471483 0.40471483 0.40471483\n",
      " 0.40471483 0.40471483 0.40471483 0.40471483 0.40471483 0.40471483\n",
      " 0.40471483 0.40471483 0.40471483 0.40471483 0.40471483 0.40471483\n",
      " 0.40471483 0.40471483 0.40471483 0.40471483 0.40471483 0.40471483\n",
      " 0.40471483 0.40471483 0.40471483 0.40471483 0.40471483 0.40471483\n",
      " 0.40471483 0.40471483 0.40471483 0.40471483 0.40471483 0.40471483\n",
      " 0.40471483 0.40471483 0.40471483 0.40471483 0.40471483 0.40471483\n",
      " 0.40471483 0.40471483 0.40471483 0.40471483 0.40471483 0.40471483\n",
      " 0.40471483 0.40471483 0.40471483 0.40471483 0.40471483 0.40471483\n",
      " 0.40471483 0.40471483 0.40471483 0.40471483 0.40471483 0.40471483\n",
      " 0.40471483 0.40471483 0.40471483 0.40471483 0.40471483 0.40471483\n",
      " 0.40471483 0.40471483 0.40471483 0.40471483 0.40471483 0.40471483\n",
      " 0.40471483 0.40471483 0.40471483 0.40471483 0.40471483 0.40471483\n",
      " 0.40471483 0.40471483 0.40471483 0.40471483 0.40471483 0.40471483\n",
      " 0.40471483 0.40471483 0.40471483 0.40471483 0.40471483 0.40471483\n",
      " 0.40471483 0.40471483 0.40471483 0.40471483 0.40471483 0.40471483\n",
      " 0.40471483 0.40471483 0.40471483 0.40471483 0.40471483 0.40471483\n",
      " 0.40471483 0.40471483 0.40471483 0.40471483 0.40471483 0.40471483\n",
      " 0.40471483 0.40471483 0.40471483 0.40471483 0.40471483 0.40471483\n",
      " 0.40471483 0.40471483 0.40471483 0.40471483 0.40471483 0.40471483\n",
      " 0.40471483 0.40471483 0.40471483 0.40471483 0.40471483 0.40471483\n",
      " 0.40471483 0.40471483 0.40471483 0.40471483 0.40471483 0.40471483\n",
      " 0.40471483 0.40471483 0.40471483 0.40471483 0.40471483 0.40471483\n",
      " 0.40471483 0.40471483 0.40471483 0.40471483 0.40471483 0.40471483\n",
      " 0.40471483 0.40471483 0.40471483 0.40471483 0.40471483 0.40471483\n",
      " 0.40471483 0.40471483 0.40471483 0.40471483 0.40471483 0.40471483\n",
      " 0.40471483 0.40471483 0.40471483 0.40471483 0.40471483 0.40471483\n",
      " 0.40471483 0.40471483 0.40471483 0.40471483 0.40471483 0.40471483\n",
      " 0.40471483 0.40471483 0.40471483 0.40471483 0.40471483 0.40471483\n",
      " 0.40471483 0.40471483 0.40471483 0.40471483 0.40471483 0.40471483\n",
      " 0.40471483 0.40471483 0.40471483 0.40471483 0.40471483 0.40471483\n",
      " 0.40471483 0.40471483 0.40471483 0.40471483 0.40471483 0.40471483\n",
      " 0.40471483 0.40471483 0.40471483 0.40471483 0.40471483 0.40471483\n",
      " 0.40471483 0.40471483 0.40471483 0.40471483 0.40471483 0.40471483\n",
      " 0.40471483 0.40471483 0.40471483 0.40471483 0.40471483 0.40471483\n",
      " 0.40471483 0.40471483 0.40471483 0.40471483 0.40471483 0.40471483\n",
      " 0.40471483 0.40471483 0.40471483 0.40471483 0.40471483 0.40471483\n",
      " 0.40471483 0.40471483 0.40471483 0.40471483 0.40471483 0.40471483\n",
      " 0.40471483 0.40471483 0.40471483 0.40471483 0.40471483 0.40471483\n",
      " 0.40471483 0.40471483 0.40471483 0.40471483 0.40471483 0.40471483\n",
      " 0.40471483 0.40471483 0.40471483 0.40471483 0.40471483 0.40471483\n",
      " 0.40471483 0.40471483 0.40471483 0.40471483 0.40471483]\n"
     ]
    }
   ],
   "source": [
    "dataframe_temperatura_imputada, lista_series_temperatura_imputada = imputar_rf(serie_temperatura_test, series_temperatura_entrenamiento, series_temperatura_test, 100, series_temperatura_escaladas)"
   ]
  },
  {
   "cell_type": "markdown",
   "metadata": {},
   "source": [
    "### Temperatura"
   ]
  },
  {
   "cell_type": "code",
   "execution_count": 255,
   "metadata": {},
   "outputs": [],
   "source": [
    "#gridding(series_temperatura_entrenamiento, grid)"
   ]
  },
  {
   "cell_type": "markdown",
   "metadata": {},
   "source": [
    "### Cardiovascular"
   ]
  },
  {
   "cell_type": "code",
   "execution_count": 256,
   "metadata": {},
   "outputs": [],
   "source": [
    "#gridding(series_cardiovascular_entrenamiento, grid)"
   ]
  },
  {
   "cell_type": "markdown",
   "metadata": {},
   "source": [
    "### Manchas solares"
   ]
  },
  {
   "cell_type": "code",
   "execution_count": 257,
   "metadata": {},
   "outputs": [],
   "source": [
    "#gridding(series_sunspots_entrenamiento, grid)"
   ]
  },
  {
   "cell_type": "markdown",
   "metadata": {},
   "source": [
    "## Imputamos mediana"
   ]
  },
  {
   "cell_type": "code",
   "execution_count": 258,
   "metadata": {},
   "outputs": [
    {
     "data": {
      "text/plain": [
       "\"\\n#dataframe_temperatura_imputada, lista_series_temperatura_imputada = imputar_mediana(serie_temperatura, lista_series_temperatura)\\ndataframe_temperatura_imputada, lista_series_temperatura_imputada = imputar_mediana(serie_original_temperatura_escalada, series_temperatura_escaladas)\\n#dataframe_cardiovascular_imputada, lista_series_cardiovascular_imputada(serie_cardiovascular, lista_series_cardiovascular)\\ndataframe_cardiovascular_imputada, lista_series_cardiovascular_imputada = imputar_mediana(serie_original_cardiovascular_escalada, series_cardiovascular_escaladas)\\n#dataframe_sunspots_imputada, lista_series_sunspots_imputada = imputar_mediana(serie_sunspots, lista_series_sunspots)\\ndataframe_sunspots_imputada, lista_series_sunspots_imputada = imputar_mediana(serie_original_sunspots_escalada, series_sunspots_escaladas)\\ndataframe_general_imputada = pd.concat([dataframe_temperatura_imputada, dataframe_cardiovascular_imputada, dataframe_sunspots_imputada], ignore_index=True)\\ndataframe_general_imputada'\\n\""
      ]
     },
     "execution_count": 258,
     "metadata": {},
     "output_type": "execute_result"
    }
   ],
   "source": [
    "'''\n",
    "#dataframe_temperatura_imputada, lista_series_temperatura_imputada = imputar_mediana(serie_temperatura, lista_series_temperatura)\n",
    "dataframe_temperatura_imputada, lista_series_temperatura_imputada = imputar_mediana(serie_original_temperatura_escalada, series_temperatura_escaladas)\n",
    "#dataframe_cardiovascular_imputada, lista_series_cardiovascular_imputada(serie_cardiovascular, lista_series_cardiovascular)\n",
    "dataframe_cardiovascular_imputada, lista_series_cardiovascular_imputada = imputar_mediana(serie_original_cardiovascular_escalada, series_cardiovascular_escaladas)\n",
    "#dataframe_sunspots_imputada, lista_series_sunspots_imputada = imputar_mediana(serie_sunspots, lista_series_sunspots)\n",
    "dataframe_sunspots_imputada, lista_series_sunspots_imputada = imputar_mediana(serie_original_sunspots_escalada, series_sunspots_escaladas)\n",
    "dataframe_general_imputada = pd.concat([dataframe_temperatura_imputada, dataframe_cardiovascular_imputada, dataframe_sunspots_imputada], ignore_index=True)\n",
    "dataframe_general_imputada'\n",
    "'''"
   ]
  },
  {
   "cell_type": "markdown",
   "metadata": {},
   "source": [
    "## Desescalamos"
   ]
  },
  {
   "cell_type": "code",
   "execution_count": 259,
   "metadata": {},
   "outputs": [
    {
     "data": {
      "text/plain": [
       "\"\\nlista_series_temperatura_imputada = auxi.desescalar(min_max_scaler_temperatura, lista_series_temperatura_imputada)\\nlista_series_cardiovascular_imputada = auxi.desescalar(min_max_scaler_cardiovascular, lista_series_cardiovascular_imputada)\\nlista_series_sunspots_imputada = auxi.desescalar(min_max_scaler_sunspots, lista_series_sunspots_imputada)'\\n\""
      ]
     },
     "execution_count": 259,
     "metadata": {},
     "output_type": "execute_result"
    }
   ],
   "source": [
    "'''\n",
    "lista_series_temperatura_imputada = auxi.desescalar(min_max_scaler_temperatura, lista_series_temperatura_imputada)\n",
    "lista_series_cardiovascular_imputada = auxi.desescalar(min_max_scaler_cardiovascular, lista_series_cardiovascular_imputada)\n",
    "lista_series_sunspots_imputada = auxi.desescalar(min_max_scaler_sunspots, lista_series_sunspots_imputada)'\n",
    "'''"
   ]
  },
  {
   "cell_type": "markdown",
   "metadata": {},
   "source": [
    "## Graficos"
   ]
  },
  {
   "cell_type": "markdown",
   "metadata": {},
   "source": [
    "### Temperatura"
   ]
  },
  {
   "cell_type": "code",
   "execution_count": 260,
   "metadata": {},
   "outputs": [],
   "source": [
    "#auxi.graficar_comparacion(serie_temperatura, lista_series_temperatura_imputada)"
   ]
  },
  {
   "cell_type": "markdown",
   "metadata": {},
   "source": [
    "### Cardiovascular"
   ]
  },
  {
   "cell_type": "code",
   "execution_count": 261,
   "metadata": {},
   "outputs": [],
   "source": [
    "#auxi.graficar_comparacion(serie_cardiovascular, lista_series_cardiovascular_imputada)"
   ]
  },
  {
   "cell_type": "markdown",
   "metadata": {},
   "source": [
    "### Manchas solares"
   ]
  },
  {
   "cell_type": "code",
   "execution_count": 262,
   "metadata": {},
   "outputs": [],
   "source": [
    "#auxi.graficar_comparacion(serie_sunspots, lista_series_sunspots_imputada)"
   ]
  },
  {
   "cell_type": "markdown",
   "metadata": {},
   "source": [
    "## Guardar datos"
   ]
  },
  {
   "cell_type": "code",
   "execution_count": 263,
   "metadata": {},
   "outputs": [
    {
     "data": {
      "text/plain": [
       "'\\ndataframe_general_imputada.to_csv(\"../median/_dataframe_resultados.csv\")\\nauxi.guardar_series(\"../median/\", lista_series_temperatura_imputada)\\nauxi.guardar_series(\"../median/\", lista_series_cardiovascular_imputada)\\nauxi.guardar_series(\"../median/\", lista_series_sunspots_imputada)\\n'"
      ]
     },
     "execution_count": 263,
     "metadata": {},
     "output_type": "execute_result"
    }
   ],
   "source": [
    "'''\n",
    "dataframe_general_imputada.to_csv(\"../median/_dataframe_resultados.csv\")\n",
    "auxi.guardar_series(\"../median/\", lista_series_temperatura_imputada)\n",
    "auxi.guardar_series(\"../median/\", lista_series_cardiovascular_imputada)\n",
    "auxi.guardar_series(\"../median/\", lista_series_sunspots_imputada)\n",
    "'''"
   ]
  }
 ],
 "metadata": {
  "kernelspec": {
   "display_name": "env",
   "language": "python",
   "name": "python3"
  },
  "language_info": {
   "codemirror_mode": {
    "name": "ipython",
    "version": 3
   },
   "file_extension": ".py",
   "mimetype": "text/x-python",
   "name": "python",
   "nbconvert_exporter": "python",
   "pygments_lexer": "ipython3",
   "version": "3.13.2"
  }
 },
 "nbformat": 4,
 "nbformat_minor": 2
}
